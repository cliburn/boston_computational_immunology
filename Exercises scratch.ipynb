{
 "cells": [
  {
   "cell_type": "markdown",
   "metadata": {},
   "source": [
    "**1**. Run GUI version of `cytofkit`\n",
    "\n",
    "```R\n",
    "library(cytofkit)\n",
    "cytofkit_GUI() \n",
    "```\n",
    "\n",
    "Perform the following analysis for the FCS file `data/AMJ_5L_SEB.fcs`\n",
    "\n",
    "- Restrict analysis to fluorescent markers only\n",
    "- Use the `cell` merge method\n",
    "- Transform the data using `FixedLogicle`\n",
    "- Cluster using `ClusterX`\n",
    "- Visualize using `tsne`\n",
    "- Evaluate cell progression using `diffusionmap`\n",
    "\n",
    "Explore the results using the `shiny` API when complete.\n",
    "\n",
    "**Note**: This is useful for exploratory analysis. However, there are a *humongous* number of tunable parameters as well as use of stochastic algorithms that involve ranoom number generation. Hence, when you are done exploring, you should always write a script to replicate the results, as this is a pre-condition for reproducible analysis. Remeber to fix the random seed.\n",
    "\n",
    "- Bonus exercise: Implement the pipeline above using a script. Hint: `help(cytofkit)`"
   ]
  },
  {
   "cell_type": "code",
   "execution_count": null,
   "metadata": {},
   "outputs": [],
   "source": [
    "\n",
    "\n",
    "\n"
   ]
  },
  {
   "cell_type": "markdown",
   "metadata": {},
   "source": [
    "**2**. Write an R script to do the following:\n",
    "\n",
    "- Load the FCS file `data/AMJ_5L_SEB.fcs` into a `data.frame` using the `logicle` transform with default parameters\n",
    "- Create a new data frame containing only the `CD4` and `CD8` channels with 10,000 randomly sampled events\n",
    "    - Hint: `help(cytof_exprsMerge)` and `help(cytof_exprsExtract)`\n",
    "- Save the new data frame to a `cd4_cd8.feather` file \n",
    "    - Hint: Use the `feather` package\n",
    "    - If you cannot install the `feather` package, save to CSV file\n",
    "- Show a density plot of CD4 using `ggplot2` and `geom_density`\n",
    "- Plot CD4 against CD8 and color by density for the 10,000 events\n",
    "    - Hint: Use the `get_density` function provided in the notebooks\n",
    "- Save the plots as PNG files\n",
    "    - Hint: [Stack overflow for doing it via scripting](https://stackoverflow.com/questions/7144118/how-to-save-a-plot-as-image-on-the-disk)"
   ]
  },
  {
   "cell_type": "code",
   "execution_count": null,
   "metadata": {},
   "outputs": [],
   "source": [
    "\n",
    "\n",
    "\n"
   ]
  },
  {
   "cell_type": "markdown",
   "metadata": {},
   "source": [
    "**3**. Write an R script to do the following:\n",
    "\n",
    "- Sample 1,000 events without replacement from the `AMJ_5L_SEB` data.frame from Ex. 2\n",
    "- Select only fluorescent channels that have an antibody marker\n",
    "- Run `tsne` with default parameters to reduce to 2 dimensions\n",
    "    - Hint: Use the `tsne` package\n",
    "- Use `clusterX` to cluster the 2D tsne result\n",
    "    - Hint: Use the `clusterX` package (this is installed with CytofKit)\n",
    "- Plot a scatter diagram of the tsne result coloring events by their cluster label\n",
    "    - Hint: Explore the object returned by the clusterX function"
   ]
  },
  {
   "cell_type": "code",
   "execution_count": null,
   "metadata": {},
   "outputs": [],
   "source": [
    "\n",
    "\n"
   ]
  },
  {
   "cell_type": "markdown",
   "metadata": {},
   "source": [
    "**4**. If you have come so far, you have now earned your apprenice cytometry analyst license! To continue exploring,\n",
    "\n",
    "- See the [packages](https://master.bioconductor.org/help/search/index.html?q=cytometry/) for cytometry at BioConductor\n",
    "- Pick a package that intrigues you, and see if you can replicate the tutorial on one of your own data sets (e.g. FlowSOM)\n",
    "- Ask me questions at cliburn dot chan at duke dot edu. I am not an expert in using R for cytometry analyis, but I have a 24 hour head start on you ;-)"
   ]
  },
  {
   "cell_type": "code",
   "execution_count": null,
   "metadata": {},
   "outputs": [],
   "source": [
    "\n",
    "\n",
    "\n"
   ]
  }
 ],
 "metadata": {
  "kernelspec": {
   "display_name": "R",
   "language": "R",
   "name": "r"
  },
  "language_info": {
   "codemirror_mode": "r",
   "file_extension": ".r",
   "mimetype": "text/x-r-source",
   "name": "R",
   "pygments_lexer": "r",
   "version": "3.4.2"
  }
 },
 "nbformat": 4,
 "nbformat_minor": 2
}
