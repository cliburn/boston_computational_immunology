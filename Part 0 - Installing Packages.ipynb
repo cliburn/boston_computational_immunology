{
 "cells": [
  {
   "cell_type": "markdown",
   "metadata": {},
   "source": [
    "### Install from command line\n",
    "\n",
    "```bash\n",
    "sudo apt-get install r-bioc-biocgenerics\n",
    "```"
   ]
  },
  {
   "cell_type": "markdown",
   "metadata": {},
   "source": [
    "### Install CRAN packages\n",
    "\n",
    "```R\n",
    "install.packages('devtools')\n",
    "install.packages('tidyverse')\n",
    "```"
   ]
  },
  {
   "cell_type": "markdown",
   "metadata": {},
   "source": [
    "### Install GitHub pakcages\n",
    "\n",
    "```R\n",
    "devtools::install_github(\"wesm/feather/R\")\n",
    "```"
   ]
  },
  {
   "cell_type": "markdown",
   "metadata": {},
   "source": [
    "### Install BioConductor packages\n",
    "\n",
    "```\n",
    "source(\"https://bioconductor.org/biocLite.R\")\n",
    "biocLite(\"cytofkit\")\n",
    "biocLite(\"flowCore\")\n",
    "biocLite(\"flowiz\")\n",
    "biocLite(\"flowMeans\")\n",
    "```"
   ]
  }
 ],
 "metadata": {
  "kernelspec": {
   "display_name": "R",
   "language": "R",
   "name": "ir"
  },
  "language_info": {
   "codemirror_mode": "r",
   "file_extension": ".r",
   "mimetype": "text/x-r-source",
   "name": "R",
   "pygments_lexer": "r",
   "version": "3.4.1"
  }
 },
 "nbformat": 4,
 "nbformat_minor": 2
}
