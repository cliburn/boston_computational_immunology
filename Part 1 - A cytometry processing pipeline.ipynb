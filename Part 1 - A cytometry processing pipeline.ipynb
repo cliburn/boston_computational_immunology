{
 "cells": [
  {
   "cell_type": "code",
   "execution_count": null,
   "metadata": {},
   "outputs": [],
   "source": [
    "library(tidyverse)\n",
    "library(cytofkit)"
   ]
  },
  {
   "cell_type": "code",
   "execution_count": null,
   "metadata": {
    "collapsed": true
   },
   "outputs": [],
   "source": [
    "## Loading the FCS data:  \n",
    "\n",
    "set.seed(100)\n",
    "files <- list.files('data' , pattern='AMJ_5L.*.fcs', full=TRUE)"
   ]
  },
  {
   "cell_type": "code",
   "execution_count": null,
   "metadata": {},
   "outputs": [],
   "source": [
    "files"
   ]
  },
  {
   "cell_type": "code",
   "execution_count": null,
   "metadata": {
    "collapsed": true
   },
   "outputs": [],
   "source": [
    "## Extract the expression matrix with transformation\n",
    "\n",
    "data_transformed <- cytof_exprsMerge(\n",
    "    fcsFiles = files, \n",
    "    comp=FALSE,\n",
    "    transformMethod = \"cytofAsinh\",\n",
    "    mergeMethod = \"all\"\n",
    ")"
   ]
  },
  {
   "cell_type": "code",
   "execution_count": null,
   "metadata": {
    "collapsed": true
   },
   "outputs": [],
   "source": [
    "help(cytof_exprsMerge)"
   ]
  },
  {
   "cell_type": "code",
   "execution_count": null,
   "metadata": {},
   "outputs": [],
   "source": [
    "head(data_transformed[ ,1:3], 3)"
   ]
  },
  {
   "cell_type": "code",
   "execution_count": null,
   "metadata": {},
   "outputs": [],
   "source": [
    "tail(data_transformed[ ,1:3], 3)"
   ]
  },
  {
   "cell_type": "code",
   "execution_count": null,
   "metadata": {
    "collapsed": true
   },
   "outputs": [],
   "source": [
    "# subsample data to complete before universe collapses\n",
    "n <- 1000\n",
    "data_transformed <- as.data.frame(data_transformed) %>% \n",
    "sample_n(n, replace = FALSE)"
   ]
  },
  {
   "cell_type": "code",
   "execution_count": null,
   "metadata": {},
   "outputs": [],
   "source": [
    "## use clustering algorithm to detect cell subsets\n",
    "\n",
    "## run PhenoGraph\n",
    "cluster_PhenoGraph <- cytof_cluster(\n",
    "    xdata = data_transformed, \n",
    "    method = \"Rphenograph\"\n",
    ")"
   ]
  },
  {
   "cell_type": "code",
   "execution_count": null,
   "metadata": {},
   "outputs": [],
   "source": [
    "## reduce dimensionality with t-sne\n",
    "\n",
    "data_transformed_tsne <- cytof_dimReduction(\n",
    "    data=data_transformed, \n",
    "    method = \"tsne\"\n",
    ")"
   ]
  },
  {
   "cell_type": "code",
   "execution_count": null,
   "metadata": {},
   "outputs": [],
   "source": [
    "## run ClusterX\n",
    "\n",
    "cluster_ClusterX <- cytof_cluster(\n",
    "    ydata = data_transformed_tsne, \n",
    "    method=\"ClusterX\"\n",
    ")"
   ]
  },
  {
   "cell_type": "code",
   "execution_count": null,
   "metadata": {},
   "outputs": [],
   "source": [
    "## run Cluster_DenseVM\n",
    "\n",
    "cluster_DensVM <- cytof_cluster(\n",
    "    xdata = data_transformed, \n",
    "    ydata = data_transformed_tsne, \n",
    "    method = \"DensVM\"\n",
    ")"
   ]
  },
  {
   "cell_type": "code",
   "execution_count": null,
   "metadata": {},
   "outputs": [],
   "source": [
    "## run FlowSOM with cluster number 25\n",
    "\n",
    "cluster_FlowSOM <- cytof_cluster(\n",
    "    xdata = data_transformed,\n",
    "    method = \"FlowSOM\", \n",
    "    FlowSOM_k = 25\n",
    ")"
   ]
  },
  {
   "cell_type": "code",
   "execution_count": null,
   "metadata": {
    "collapsed": true
   },
   "outputs": [],
   "source": [
    "## combine data\n",
    "\n",
    "data_all <- cbind(\n",
    "    data_transformed, \n",
    "    data_transformed_tsne, \n",
    "    PhenoGraph = cluster_PhenoGraph,\n",
    "    ClusterX=cluster_ClusterX, \n",
    "    ClusterDensVM=cluster_DensVM,\n",
    "    FlowSOM=cluster_FlowSOM\n",
    ")\n",
    "data_all <- as.data.frame(data_all)"
   ]
  },
  {
   "cell_type": "code",
   "execution_count": null,
   "metadata": {},
   "outputs": [],
   "source": [
    "## PhenoGraph plot on tsne\n",
    "\n",
    "cytof_clusterPlot(\n",
    "    data=data_all, \n",
    "    xlab=\"tsne_1\", \n",
    "    ylab=\"tsne_2\", \n",
    "    cluster=\"PhenoGraph\", \n",
    "    sampleLabel = FALSE)"
   ]
  },
  {
   "cell_type": "code",
   "execution_count": null,
   "metadata": {},
   "outputs": [],
   "source": [
    "## PhenoGraph cluster heatmap\n",
    "\n",
    "PhenoGraph_cluster_median <- aggregate(. ~ PhenoGraph, \n",
    "                                       data = data_all, median)\n",
    "cytof_heatmap(PhenoGraph_cluster_median, \n",
    "              baseName = \"PhenoGraph Cluster Median\")"
   ]
  },
  {
   "cell_type": "code",
   "execution_count": null,
   "metadata": {},
   "outputs": [],
   "source": [
    "## ClusterX plot on tsne\n",
    "\n",
    "cytof_clusterPlot(\n",
    "    data=data_all,\n",
    "    xlab=\"tsne_1\", \n",
    "    ylab=\"tsne_2\", \n",
    "    cluster=\"ClusterX\",\n",
    "    sampleLabel = FALSE\n",
    ")"
   ]
  },
  {
   "cell_type": "code",
   "execution_count": null,
   "metadata": {},
   "outputs": [],
   "source": [
    "## ClusterX cluster heatmap\n",
    "\n",
    "ClusterX_cluster_median <- aggregate(. ~ ClusterX, \n",
    "                                     data = data_all, median)\n",
    "cytof_heatmap(ClusterX_cluster_median, \n",
    "              baseName = \"ClusterX Cluster Median\")"
   ]
  },
  {
   "cell_type": "code",
   "execution_count": null,
   "metadata": {},
   "outputs": [],
   "source": [
    "## FlowSOM plot on tsne\n",
    "\n",
    "cytof_clusterPlot(\n",
    "    data=data_all, \n",
    "    xlab=\"tsne_1\", \n",
    "    ylab=\"tsne_2\", \n",
    "    cluster=\"FlowSOM\", \n",
    "    sampleLabel = FALSE\n",
    ")"
   ]
  },
  {
   "cell_type": "code",
   "execution_count": null,
   "metadata": {},
   "outputs": [],
   "source": [
    "## FlowSOM cluster heatmap\n",
    "\n",
    "FlowSOM_cluster_median <- aggregate(. ~ FlowSOM, \n",
    "                                    data = data_all,\n",
    "                                    median)\n",
    "cytof_heatmap(\n",
    "    FlowSOM_cluster_median, \n",
    "    baseName = \"FlowSOM Cluster Median\")"
   ]
  },
  {
   "cell_type": "code",
   "execution_count": null,
   "metadata": {},
   "outputs": [],
   "source": [
    "## Inference of PhenoGraph cluster relatedness\n",
    "\n",
    "PhenoGraph_progression <- cytof_progression(\n",
    "    data = data_transformed, \n",
    "    cluster = cluster_PhenoGraph, \n",
    "    method=\"isomap\", \n",
    "    clusterSampleSize = 50, \n",
    "    sampleSeed = 5\n",
    ")"
   ]
  },
  {
   "cell_type": "code",
   "execution_count": null,
   "metadata": {},
   "outputs": [],
   "source": [
    "p_d <- data.frame(PhenoGraph_progression$sampleData, \n",
    "                  PhenoGraph_progression$progressionData, \n",
    "                  cluster = PhenoGraph_progression$sampleCluster, \n",
    "                  check.names = FALSE)\n",
    "\n",
    "## cluster relatedness plot\n",
    "cytof_clusterPlot(\n",
    "    data=p_d, \n",
    "    xlab=\"isomap_1\", \n",
    "    ylab=\"isomap_2\", \n",
    "    cluster=\"cluster\", \n",
    "    sampleLabel = FALSE\n",
    ")"
   ]
  },
  {
   "cell_type": "code",
   "execution_count": null,
   "metadata": {},
   "outputs": [],
   "source": [
    "## marker expression profile\n",
    "markers <- c(\"Blue A-A<CD4 PerCP Cy55>\", \n",
    "             \"Red A-A<CD8 APC Cy7>\")\n",
    "\n",
    "cytof_colorPlot(data=p_d, \n",
    "                xlab=\"isomap_1\", \n",
    "                ylab=\"isomap_2\", \n",
    "                zlab = markers[1], \n",
    "                limits = range(p_d))"
   ]
  },
  {
   "cell_type": "code",
   "execution_count": null,
   "metadata": {},
   "outputs": [],
   "source": [
    "cytof_colorPlot(\n",
    "    data=p_d, \n",
    "    xlab=\"isomap_1\", \n",
    "    ylab=\"isomap_2\", \n",
    "    zlab = markers[2], \n",
    "    limits = range(p_d)\n",
    ")"
   ]
  },
  {
   "cell_type": "code",
   "execution_count": null,
   "metadata": {},
   "outputs": [],
   "source": [
    "cytof_progressionPlot(\n",
    "    data=p_d, \n",
    "    markers=markers, \n",
    "    orderCol=\"isomap_1\",\n",
    "    clusterCol = \"cluster\"\n",
    ")"
   ]
  },
  {
   "cell_type": "code",
   "execution_count": null,
   "metadata": {},
   "outputs": [],
   "source": [
    "## Inference of ClusterX cluster relatedness\n",
    "ClusterX_progression <- cytof_progression(\n",
    "    data = data_transformed, \n",
    "    cluster = cluster_ClusterX, \n",
    "    method=\"isomap\", \n",
    "    clusterSampleSize = 30, \n",
    "    sampleSeed = 3\n",
    ")"
   ]
  },
  {
   "cell_type": "code",
   "execution_count": null,
   "metadata": {},
   "outputs": [],
   "source": [
    "c_d <- data.frame(ClusterX_progression$sampleData, \n",
    "                  ClusterX_progression$progressionData,\n",
    "                  cluster=ClusterX_progression$sampleCluster, \n",
    "                  check.names = FALSE)\n",
    "\n",
    "## cluster relatedness plot\n",
    "cytof_clusterPlot(\n",
    "    data=c_d, \n",
    "    xlab=\"isomap_1\", \n",
    "    ylab=\"isomap_2\", \n",
    "    cluster=\"cluster\", \n",
    "    sampleLabel = FALSE\n",
    ")"
   ]
  },
  {
   "cell_type": "code",
   "execution_count": null,
   "metadata": {},
   "outputs": [],
   "source": [
    "## marker expression profile\n",
    "cytof_colorPlot(data=c_d,\n",
    "                xlab=\"isomap_1\", \n",
    "                ylab=\"isomap_2\", \n",
    "                zlab = markers[1], \n",
    "                limits = range(c_d))"
   ]
  },
  {
   "cell_type": "code",
   "execution_count": null,
   "metadata": {},
   "outputs": [],
   "source": [
    "cytof_colorPlot(\n",
    "    data=c_d, \n",
    "    xlab=\"isomap_1\", \n",
    "    ylab=\"isomap_2\", \n",
    "    zlab = markers[2], \n",
    "    limits = range(c_d)\n",
    ")"
   ]
  },
  {
   "cell_type": "code",
   "execution_count": null,
   "metadata": {},
   "outputs": [],
   "source": [
    "cytof_progressionPlot(\n",
    "    data=c_d, \n",
    "    markers, \n",
    "    orderCol=\"isomap_1\", \n",
    "    clusterCol = \"cluster\"\n",
    ")"
   ]
  },
  {
   "cell_type": "code",
   "execution_count": null,
   "metadata": {},
   "outputs": [],
   "source": [
    "## save analysis results to FCS file\n",
    "cytof_addToFCS(\n",
    "    data_all, \n",
    "    rawFCSdir='data',\n",
    "    analyzedFCSdir=\"analysed_FCS\", \n",
    "    transformed_cols = c(\"tsne_1\", \"tsne_2\"), \n",
    "    cluster_cols = c(\"PhenoGraph\",\n",
    "                     \"ClusterX\", \n",
    "                     \"ClusterDensVM\",\n",
    "                     \"FlowSOM\")\n",
    ")"
   ]
  },
  {
   "cell_type": "code",
   "execution_count": null,
   "metadata": {
    "collapsed": true
   },
   "outputs": [],
   "source": []
  },
  {
   "cell_type": "raw",
   "metadata": {},
   "source": []
  }
 ],
 "metadata": {
  "kernelspec": {
   "display_name": "R",
   "language": "R",
   "name": "ir"
  },
  "language_info": {
   "codemirror_mode": "r",
   "file_extension": ".r",
   "mimetype": "text/x-r-source",
   "name": "R",
   "pygments_lexer": "r",
   "version": "3.4.1"
  }
 },
 "nbformat": 4,
 "nbformat_minor": 2
}
