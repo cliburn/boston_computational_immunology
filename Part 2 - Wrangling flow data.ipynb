{
 "cells": [
  {
   "cell_type": "markdown",
   "metadata": {},
   "source": [
    "# Wrangling flow data\n",
    "\n",
    "While it is convenient to use a package such as `cytofkit`, sometimes you need to further manipulate your data or experiement with a new clustering or visualization algorithm. In order to do so, it is necessary to know how to manuplate data \"from first principles\" using modern R syntax."
   ]
  },
  {
   "cell_type": "markdown",
   "metadata": {},
   "source": [
    "#### Load FCS file into FlowFrame \n",
    "\n",
    "While you can load FCS files into a FlowFrame using `flowCore`, it is quite strcit in data validatioan and might not work with processed FCS files. I find it easier to just use a regular data frame and manipullate it using `dplyr` and friends.\n",
    "\n",
    "The [package description](https://www.bioconductor.org/packages/devel/bioc/vignettes/flowCore/inst/doc/HowTo-flowCore.pdf) for `flowCore` is quite old, and installation can be tricky, so we will just show a small example for completeness."
   ]
  },
  {
   "cell_type": "code",
   "execution_count": 1,
   "metadata": {},
   "outputs": [
    {
     "name": "stderr",
     "output_type": "stream",
     "text": [
      "\n",
      "Attaching package: ‘flowCore’\n",
      "\n",
      "The following object is masked from ‘package:base’:\n",
      "\n",
      "    sort\n",
      "\n",
      "Loading required package: lattice\n"
     ]
    }
   ],
   "source": [
    "library(flowCore)\n",
    "library(flowViz)"
   ]
  },
  {
   "cell_type": "code",
   "execution_count": 2,
   "metadata": {},
   "outputs": [
    {
     "data": {
      "text/html": [
       "<table>\n",
       "<thead><tr><th></th><th scope=col>FSC-A</th><th scope=col>FSC-H</th><th scope=col>FSC-W</th><th scope=col>SSC-A</th><th scope=col>SSC-H</th><th scope=col>SSC-W</th><th scope=col>Blue B-A</th><th scope=col>Blue A-A</th><th scope=col>Violet H-A</th><th scope=col>Violet G-A</th><th scope=col>Red C-A</th><th scope=col>Red B-A</th><th scope=col>Red A-A</th><th scope=col>Green E-A</th><th scope=col>Green D-A</th><th scope=col>Green C-A</th><th scope=col>Green A-A</th><th scope=col>Time</th></tr></thead>\n",
       "<tbody>\n",
       "\t<tr><th scope=row>Min.</th><td> 24513.87   </td><td> 25008.00   </td><td> 63784.54   </td><td>  2524.86   </td><td>  2452.00   </td><td> 45908.73   </td><td>  -106.470  </td><td>  -128.700  </td><td>  -107.10000</td><td>  -129.15   </td><td>  -122.850  </td><td>  -172.200  </td><td>  -273.000  </td><td>  -123.7600 </td><td>  -107.38   </td><td>  -218.40   </td><td>  -134.6800 </td><td>    0.1     </td></tr>\n",
       "\t<tr><th scope=row>1st Qu.</th><td> 94507.53   </td><td> 73299.25   </td><td> 78180.40   </td><td> 40902.03   </td><td> 35993.00   </td><td> 72838.75   </td><td>   230.490  </td><td>   258.570  </td><td>    57.75000</td><td>  1043.70   </td><td>   213.150  </td><td>   246.750  </td><td>   254.100  </td><td>    85.5400 </td><td>   175.63   </td><td>   698.88   </td><td>   195.6500 </td><td> 6493.7     </td></tr>\n",
       "\t<tr><th scope=row>Median</th><td>120282.48   </td><td> 95329.00   </td><td> 81755.34   </td><td> 57479.76   </td><td> 48936.00   </td><td> 74328.20   </td><td>   470.340  </td><td>  1669.590  </td><td>    99.74999</td><td>  1963.50   </td><td>   858.900  </td><td>   747.600  </td><td>   555.450  </td><td>   294.8400 </td><td>  1233.05   </td><td>  1446.90   </td><td>   375.8300 </td><td>13018.3     </td></tr>\n",
       "\t<tr><th scope=row>Mean</th><td>130873.42   </td><td>103505.36   </td><td> 83400.08   </td><td> 84462.91   </td><td> 68711.93   </td><td> 79003.86   </td><td>  3933.923  </td><td>  1900.482  </td><td>   245.75738</td><td>  2389.51   </td><td>  1028.705  </td><td>  1027.442  </td><td>  2044.394  </td><td>   505.9665 </td><td>  5037.78   </td><td>  2861.37   </td><td>   541.1979 </td><td>13158.9     </td></tr>\n",
       "\t<tr><th scope=row>3rd Qu.</th><td>157030.27   </td><td>126171.00   </td><td> 86349.50   </td><td> 88834.29   </td><td> 72732.00   </td><td> 77350.30   </td><td>   781.560  </td><td>  2872.350  </td><td>   229.95000</td><td>  2965.20   </td><td>  1519.350  </td><td>  1173.900  </td><td>  2308.950  </td><td>   781.6900 </td><td>  8702.33   </td><td>  4080.44   </td><td>   660.6600 </td><td>19700.1     </td></tr>\n",
       "\t<tr><th scope=row>Max.</th><td>262143.00   </td><td>262143.00   </td><td>228415.78   </td><td>262143.00   </td><td>256061.00   </td><td>262143.00   </td><td>262143.000  </td><td>262143.000  </td><td>262143.00000</td><td>262143.00   </td><td>262143.000  </td><td>262143.000  </td><td>262143.000  </td><td>262143.0000 </td><td>262143.00   </td><td>262143.00   </td><td>262143.0000 </td><td>27389.8     </td></tr>\n",
       "</tbody>\n",
       "</table>\n"
      ],
      "text/latex": [
       "\\begin{tabular}{r|llllllllllllllllll}\n",
       "  & FSC-A & FSC-H & FSC-W & SSC-A & SSC-H & SSC-W & Blue B-A & Blue A-A & Violet H-A & Violet G-A & Red C-A & Red B-A & Red A-A & Green E-A & Green D-A & Green C-A & Green A-A & Time\\\\\n",
       "\\hline\n",
       "\tMin. &  24513.87    &  25008.00    &  63784.54    &   2524.86    &   2452.00    &  45908.73    &   -106.470   &   -128.700   &   -107.10000 &   -129.15    &   -122.850   &   -172.200   &   -273.000   &   -123.7600  &   -107.38    &   -218.40    &   -134.6800  &     0.1     \\\\\n",
       "\t1st Qu. &  94507.53    &  73299.25    &  78180.40    &  40902.03    &  35993.00    &  72838.75    &    230.490   &    258.570   &     57.75000 &   1043.70    &    213.150   &    246.750   &    254.100   &     85.5400  &    175.63    &    698.88    &    195.6500  &  6493.7     \\\\\n",
       "\tMedian & 120282.48    &  95329.00    &  81755.34    &  57479.76    &  48936.00    &  74328.20    &    470.340   &   1669.590   &     99.74999 &   1963.50    &    858.900   &    747.600   &    555.450   &    294.8400  &   1233.05    &   1446.90    &    375.8300  & 13018.3     \\\\\n",
       "\tMean & 130873.42    & 103505.36    &  83400.08    &  84462.91    &  68711.93    &  79003.86    &   3933.923   &   1900.482   &    245.75738 &   2389.51    &   1028.705   &   1027.442   &   2044.394   &    505.9665  &   5037.78    &   2861.37    &    541.1979  & 13158.9     \\\\\n",
       "\t3rd Qu. & 157030.27    & 126171.00    &  86349.50    &  88834.29    &  72732.00    &  77350.30    &    781.560   &   2872.350   &    229.95000 &   2965.20    &   1519.350   &   1173.900   &   2308.950   &    781.6900  &   8702.33    &   4080.44    &    660.6600  & 19700.1     \\\\\n",
       "\tMax. & 262143.00    & 262143.00    & 228415.78    & 262143.00    & 256061.00    & 262143.00    & 262143.000   & 262143.000   & 262143.00000 & 262143.00    & 262143.000   & 262143.000   & 262143.000   & 262143.0000  & 262143.00    & 262143.00    & 262143.0000  & 27389.8     \\\\\n",
       "\\end{tabular}\n"
      ],
      "text/markdown": [
       "\n",
       "| <!--/--> | FSC-A | FSC-H | FSC-W | SSC-A | SSC-H | SSC-W | Blue B-A | Blue A-A | Violet H-A | Violet G-A | Red C-A | Red B-A | Red A-A | Green E-A | Green D-A | Green C-A | Green A-A | Time | \n",
       "|---|---|---|---|---|---|\n",
       "| Min. |  24513.87    |  25008.00    |  63784.54    |   2524.86    |   2452.00    |  45908.73    |   -106.470   |   -128.700   |   -107.10000 |   -129.15    |   -122.850   |   -172.200   |   -273.000   |   -123.7600  |   -107.38    |   -218.40    |   -134.6800  |     0.1      | \n",
       "| 1st Qu. |  94507.53    |  73299.25    |  78180.40    |  40902.03    |  35993.00    |  72838.75    |    230.490   |    258.570   |     57.75000 |   1043.70    |    213.150   |    246.750   |    254.100   |     85.5400  |    175.63    |    698.88    |    195.6500  |  6493.7      | \n",
       "| Median | 120282.48    |  95329.00    |  81755.34    |  57479.76    |  48936.00    |  74328.20    |    470.340   |   1669.590   |     99.74999 |   1963.50    |    858.900   |    747.600   |    555.450   |    294.8400  |   1233.05    |   1446.90    |    375.8300  | 13018.3      | \n",
       "| Mean | 130873.42    | 103505.36    |  83400.08    |  84462.91    |  68711.93    |  79003.86    |   3933.923   |   1900.482   |    245.75738 |   2389.51    |   1028.705   |   1027.442   |   2044.394   |    505.9665  |   5037.78    |   2861.37    |    541.1979  | 13158.9      | \n",
       "| 3rd Qu. | 157030.27    | 126171.00    |  86349.50    |  88834.29    |  72732.00    |  77350.30    |    781.560   |   2872.350   |    229.95000 |   2965.20    |   1519.350   |   1173.900   |   2308.950   |    781.6900  |   8702.33    |   4080.44    |    660.6600  | 19700.1      | \n",
       "| Max. | 262143.00    | 262143.00    | 228415.78    | 262143.00    | 256061.00    | 262143.00    | 262143.000   | 262143.000   | 262143.00000 | 262143.00    | 262143.000   | 262143.000   | 262143.000   | 262143.0000  | 262143.00    | 262143.00    | 262143.0000  | 27389.8      | \n",
       "\n",
       "\n"
      ],
      "text/plain": [
       "        FSC-A     FSC-H     FSC-W     SSC-A     SSC-H     SSC-W     Blue B-A  \n",
       "Min.     24513.87  25008.00  63784.54   2524.86   2452.00  45908.73   -106.470\n",
       "1st Qu.  94507.53  73299.25  78180.40  40902.03  35993.00  72838.75    230.490\n",
       "Median  120282.48  95329.00  81755.34  57479.76  48936.00  74328.20    470.340\n",
       "Mean    130873.42 103505.36  83400.08  84462.91  68711.93  79003.86   3933.923\n",
       "3rd Qu. 157030.27 126171.00  86349.50  88834.29  72732.00  77350.30    781.560\n",
       "Max.    262143.00 262143.00 228415.78 262143.00 256061.00 262143.00 262143.000\n",
       "        Blue A-A   Violet H-A   Violet G-A Red C-A    Red B-A    Red A-A   \n",
       "Min.      -128.700   -107.10000   -129.15    -122.850   -172.200   -273.000\n",
       "1st Qu.    258.570     57.75000   1043.70     213.150    246.750    254.100\n",
       "Median    1669.590     99.74999   1963.50     858.900    747.600    555.450\n",
       "Mean      1900.482    245.75738   2389.51    1028.705   1027.442   2044.394\n",
       "3rd Qu.   2872.350    229.95000   2965.20    1519.350   1173.900   2308.950\n",
       "Max.    262143.000 262143.00000 262143.00  262143.000 262143.000 262143.000\n",
       "        Green E-A   Green D-A Green C-A Green A-A   Time   \n",
       "Min.      -123.7600   -107.38   -218.40   -134.6800     0.1\n",
       "1st Qu.     85.5400    175.63    698.88    195.6500  6493.7\n",
       "Median     294.8400   1233.05   1446.90    375.8300 13018.3\n",
       "Mean       505.9665   5037.78   2861.37    541.1979 13158.9\n",
       "3rd Qu.    781.6900   8702.33   4080.44    660.6600 19700.1\n",
       "Max.    262143.0000 262143.00 262143.00 262143.0000 27389.8"
      ]
     },
     "metadata": {},
     "output_type": "display_data"
    }
   ],
   "source": [
    "path <- \"data/AMJ_Costim_1.fcs\"\n",
    "x <- read.FCS(path, transformation=TRUE)\n",
    "summary(x) "
   ]
  },
  {
   "cell_type": "code",
   "execution_count": 3,
   "metadata": {},
   "outputs": [],
   "source": [
    "options(repr.plot.width = 4, repr.plot.height = 4)"
   ]
  },
  {
   "cell_type": "code",
   "execution_count": 4,
   "metadata": {
    "scrolled": false
   },
   "outputs": [
    {
     "data": {
      "image/png": "[encoded data removed]",
      "text/plain": [
       "plot without title"
      ]
     },
     "metadata": {},
     "output_type": "display_data"
    }
   ],
   "source": [
    "plot(x[1:1000, c(1,4)])"
   ]
  },
  {
   "cell_type": "markdown",
   "metadata": {},
   "source": [
    "### Load data set into R DataFrame\n",
    "\n",
    "[Feahtr](http://blog.rstudio.com/2016/03/29/feather/) is a fast storage format for data frames that allows for convenient data exchange between R and Python `pandas`. Given the size of flow and scRNA-seq data files, it is faster than other portable formats."
   ]
  },
  {
   "cell_type": "code",
   "execution_count": 5,
   "metadata": {},
   "outputs": [
    {
     "name": "stderr",
     "output_type": "stream",
     "text": [
      "── Attaching packages ─────────────────────────────────────── tidyverse 1.2.1 ──\n",
      "✔ ggplot2 2.2.1     ✔ purrr   0.2.5\n",
      "✔ tibble  1.4.2     ✔ dplyr   0.7.5\n",
      "✔ tidyr   0.8.1     ✔ stringr 1.3.1\n",
      "✔ readr   1.1.1     ✔ forcats 0.3.0\n",
      "── Conflicts ────────────────────────────────────────── tidyverse_conflicts() ──\n",
      "✖ dplyr::exprs()  masks flowCore::exprs()\n",
      "✖ dplyr::filter() masks flowCore::filter(), stats::filter()\n",
      "✖ dplyr::lag()    masks stats::lag()\n"
     ]
    }
   ],
   "source": [
    "library(feather)\n",
    "library(tidyverse)"
   ]
  },
  {
   "cell_type": "code",
   "execution_count": 6,
   "metadata": {},
   "outputs": [
    {
     "name": "stderr",
     "output_type": "stream",
     "text": [
      "Loading required package: viridisLite\n"
     ]
    }
   ],
   "source": [
    "library(viridis)"
   ]
  },
  {
   "cell_type": "code",
   "execution_count": 7,
   "metadata": {},
   "outputs": [],
   "source": [
    "path <- 'data/flow27parameter_indexed.feather'\n",
    "df <- read_feather(path)"
   ]
  },
  {
   "cell_type": "markdown",
   "metadata": {},
   "source": [
    "#### Instpect data set"
   ]
  },
  {
   "cell_type": "code",
   "execution_count": 8,
   "metadata": {},
   "outputs": [
    {
     "data": {
      "text/html": [
       "<ol class=list-inline>\n",
       "\t<li>10000</li>\n",
       "\t<li>30</li>\n",
       "</ol>\n"
      ],
      "text/latex": [
       "\\begin{enumerate*}\n",
       "\\item 10000\n",
       "\\item 30\n",
       "\\end{enumerate*}\n"
      ],
      "text/markdown": [
       "1. 10000\n",
       "2. 30\n",
       "\n",
       "\n"
      ],
      "text/plain": [
       "[1] 10000    30"
      ]
     },
     "metadata": {},
     "output_type": "display_data"
    }
   ],
   "source": [
    "dim(df)"
   ]
  },
  {
   "cell_type": "code",
   "execution_count": 9,
   "metadata": {},
   "outputs": [
    {
     "data": {
      "text/html": [
       "<ol class=list-inline>\n",
       "\t<li>'FSC.A'</li>\n",
       "\t<li>'SSC.A'</li>\n",
       "\t<li>'CD45RA_BB515'</li>\n",
       "\t<li>'CD94_BB630'</li>\n",
       "\t<li>'CD195_BB660'</li>\n",
       "\t<li>'CD8_PerCP.Cy55'</li>\n",
       "\t<li>'CD38_BB790'</li>\n",
       "\t<li>'CD127_AF647'</li>\n",
       "\t<li>'CD56_APCR700'</li>\n",
       "\t<li>'HLADR_APCCy7'</li>\n",
       "\t<li>'CD32_BUV395'</li>\n",
       "\t<li>'CD16_BUV496'</li>\n",
       "\t<li>'CD19_BUV563'</li>\n",
       "\t<li>'IgD_BUV615'</li>\n",
       "\t<li>'CD4_BUV661'</li>\n",
       "\t<li>'CD64_BUV737'</li>\n",
       "\t<li>'CD14_BUV805'</li>\n",
       "\t<li>'CD11c_PE'</li>\n",
       "\t<li>'CD13_PECF594'</li>\n",
       "\t<li>'CD123_PECy5'</li>\n",
       "\t<li>'PE.Cy5_5.A'</li>\n",
       "\t<li>'CD25_PECy7'</li>\n",
       "\t<li>'CD57_BV421'</li>\n",
       "\t<li>'CD3_BV480'</li>\n",
       "\t<li>'BV570.A'</li>\n",
       "\t<li>'BV605.A'</li>\n",
       "\t<li>'CD15_BV650'</li>\n",
       "\t<li>'CD27_BV711'</li>\n",
       "\t<li>'CD20_BV750'</li>\n",
       "\t<li>'CD197_BV786'</li>\n",
       "</ol>\n"
      ],
      "text/latex": [
       "\\begin{enumerate*}\n",
       "\\item 'FSC.A'\n",
       "\\item 'SSC.A'\n",
       "\\item 'CD45RA\\_BB515'\n",
       "\\item 'CD94\\_BB630'\n",
       "\\item 'CD195\\_BB660'\n",
       "\\item 'CD8\\_PerCP.Cy55'\n",
       "\\item 'CD38\\_BB790'\n",
       "\\item 'CD127\\_AF647'\n",
       "\\item 'CD56\\_APCR700'\n",
       "\\item 'HLADR\\_APCCy7'\n",
       "\\item 'CD32\\_BUV395'\n",
       "\\item 'CD16\\_BUV496'\n",
       "\\item 'CD19\\_BUV563'\n",
       "\\item 'IgD\\_BUV615'\n",
       "\\item 'CD4\\_BUV661'\n",
       "\\item 'CD64\\_BUV737'\n",
       "\\item 'CD14\\_BUV805'\n",
       "\\item 'CD11c\\_PE'\n",
       "\\item 'CD13\\_PECF594'\n",
       "\\item 'CD123\\_PECy5'\n",
       "\\item 'PE.Cy5\\_5.A'\n",
       "\\item 'CD25\\_PECy7'\n",
       "\\item 'CD57\\_BV421'\n",
       "\\item 'CD3\\_BV480'\n",
       "\\item 'BV570.A'\n",
       "\\item 'BV605.A'\n",
       "\\item 'CD15\\_BV650'\n",
       "\\item 'CD27\\_BV711'\n",
       "\\item 'CD20\\_BV750'\n",
       "\\item 'CD197\\_BV786'\n",
       "\\end{enumerate*}\n"
      ],
      "text/markdown": [
       "1. 'FSC.A'\n",
       "2. 'SSC.A'\n",
       "3. 'CD45RA_BB515'\n",
       "4. 'CD94_BB630'\n",
       "5. 'CD195_BB660'\n",
       "6. 'CD8_PerCP.Cy55'\n",
       "7. 'CD38_BB790'\n",
       "8. 'CD127_AF647'\n",
       "9. 'CD56_APCR700'\n",
       "10. 'HLADR_APCCy7'\n",
       "11. 'CD32_BUV395'\n",
       "12. 'CD16_BUV496'\n",
       "13. 'CD19_BUV563'\n",
       "14. 'IgD_BUV615'\n",
       "15. 'CD4_BUV661'\n",
       "16. 'CD64_BUV737'\n",
       "17. 'CD14_BUV805'\n",
       "18. 'CD11c_PE'\n",
       "19. 'CD13_PECF594'\n",
       "20. 'CD123_PECy5'\n",
       "21. 'PE.Cy5_5.A'\n",
       "22. 'CD25_PECy7'\n",
       "23. 'CD57_BV421'\n",
       "24. 'CD3_BV480'\n",
       "25. 'BV570.A'\n",
       "26. 'BV605.A'\n",
       "27. 'CD15_BV650'\n",
       "28. 'CD27_BV711'\n",
       "29. 'CD20_BV750'\n",
       "30. 'CD197_BV786'\n",
       "\n",
       "\n"
      ],
      "text/plain": [
       " [1] \"FSC.A\"          \"SSC.A\"          \"CD45RA_BB515\"   \"CD94_BB630\"    \n",
       " [5] \"CD195_BB660\"    \"CD8_PerCP.Cy55\" \"CD38_BB790\"     \"CD127_AF647\"   \n",
       " [9] \"CD56_APCR700\"   \"HLADR_APCCy7\"   \"CD32_BUV395\"    \"CD16_BUV496\"   \n",
       "[13] \"CD19_BUV563\"    \"IgD_BUV615\"     \"CD4_BUV661\"     \"CD64_BUV737\"   \n",
       "[17] \"CD14_BUV805\"    \"CD11c_PE\"       \"CD13_PECF594\"   \"CD123_PECy5\"   \n",
       "[21] \"PE.Cy5_5.A\"     \"CD25_PECy7\"     \"CD57_BV421\"     \"CD3_BV480\"     \n",
       "[25] \"BV570.A\"        \"BV605.A\"        \"CD15_BV650\"     \"CD27_BV711\"    \n",
       "[29] \"CD20_BV750\"     \"CD197_BV786\"   "
      ]
     },
     "metadata": {},
     "output_type": "display_data"
    }
   ],
   "source": [
    "colnames(df)"
   ]
  },
  {
   "cell_type": "markdown",
   "metadata": {},
   "source": [
    "#### Convert column names to be R friendly"
   ]
  },
  {
   "cell_type": "code",
   "execution_count": 10,
   "metadata": {},
   "outputs": [],
   "source": [
    "colnames(df) <- make.names(colnames(df))"
   ]
  },
  {
   "cell_type": "code",
   "execution_count": 11,
   "metadata": {},
   "outputs": [
    {
     "data": {
      "text/html": [
       "<ol class=list-inline>\n",
       "\t<li>'FSC.A'</li>\n",
       "\t<li>'SSC.A'</li>\n",
       "\t<li>'CD45RA_BB515'</li>\n",
       "\t<li>'CD94_BB630'</li>\n",
       "\t<li>'CD195_BB660'</li>\n",
       "\t<li>'CD8_PerCP.Cy55'</li>\n",
       "\t<li>'CD38_BB790'</li>\n",
       "\t<li>'CD127_AF647'</li>\n",
       "\t<li>'CD56_APCR700'</li>\n",
       "\t<li>'HLADR_APCCy7'</li>\n",
       "\t<li>'CD32_BUV395'</li>\n",
       "\t<li>'CD16_BUV496'</li>\n",
       "\t<li>'CD19_BUV563'</li>\n",
       "\t<li>'IgD_BUV615'</li>\n",
       "\t<li>'CD4_BUV661'</li>\n",
       "\t<li>'CD64_BUV737'</li>\n",
       "\t<li>'CD14_BUV805'</li>\n",
       "\t<li>'CD11c_PE'</li>\n",
       "\t<li>'CD13_PECF594'</li>\n",
       "\t<li>'CD123_PECy5'</li>\n",
       "\t<li>'PE.Cy5_5.A'</li>\n",
       "\t<li>'CD25_PECy7'</li>\n",
       "\t<li>'CD57_BV421'</li>\n",
       "\t<li>'CD3_BV480'</li>\n",
       "\t<li>'BV570.A'</li>\n",
       "\t<li>'BV605.A'</li>\n",
       "\t<li>'CD15_BV650'</li>\n",
       "\t<li>'CD27_BV711'</li>\n",
       "\t<li>'CD20_BV750'</li>\n",
       "\t<li>'CD197_BV786'</li>\n",
       "</ol>\n"
      ],
      "text/latex": [
       "\\begin{enumerate*}\n",
       "\\item 'FSC.A'\n",
       "\\item 'SSC.A'\n",
       "\\item 'CD45RA\\_BB515'\n",
       "\\item 'CD94\\_BB630'\n",
       "\\item 'CD195\\_BB660'\n",
       "\\item 'CD8\\_PerCP.Cy55'\n",
       "\\item 'CD38\\_BB790'\n",
       "\\item 'CD127\\_AF647'\n",
       "\\item 'CD56\\_APCR700'\n",
       "\\item 'HLADR\\_APCCy7'\n",
       "\\item 'CD32\\_BUV395'\n",
       "\\item 'CD16\\_BUV496'\n",
       "\\item 'CD19\\_BUV563'\n",
       "\\item 'IgD\\_BUV615'\n",
       "\\item 'CD4\\_BUV661'\n",
       "\\item 'CD64\\_BUV737'\n",
       "\\item 'CD14\\_BUV805'\n",
       "\\item 'CD11c\\_PE'\n",
       "\\item 'CD13\\_PECF594'\n",
       "\\item 'CD123\\_PECy5'\n",
       "\\item 'PE.Cy5\\_5.A'\n",
       "\\item 'CD25\\_PECy7'\n",
       "\\item 'CD57\\_BV421'\n",
       "\\item 'CD3\\_BV480'\n",
       "\\item 'BV570.A'\n",
       "\\item 'BV605.A'\n",
       "\\item 'CD15\\_BV650'\n",
       "\\item 'CD27\\_BV711'\n",
       "\\item 'CD20\\_BV750'\n",
       "\\item 'CD197\\_BV786'\n",
       "\\end{enumerate*}\n"
      ],
      "text/markdown": [
       "1. 'FSC.A'\n",
       "2. 'SSC.A'\n",
       "3. 'CD45RA_BB515'\n",
       "4. 'CD94_BB630'\n",
       "5. 'CD195_BB660'\n",
       "6. 'CD8_PerCP.Cy55'\n",
       "7. 'CD38_BB790'\n",
       "8. 'CD127_AF647'\n",
       "9. 'CD56_APCR700'\n",
       "10. 'HLADR_APCCy7'\n",
       "11. 'CD32_BUV395'\n",
       "12. 'CD16_BUV496'\n",
       "13. 'CD19_BUV563'\n",
       "14. 'IgD_BUV615'\n",
       "15. 'CD4_BUV661'\n",
       "16. 'CD64_BUV737'\n",
       "17. 'CD14_BUV805'\n",
       "18. 'CD11c_PE'\n",
       "19. 'CD13_PECF594'\n",
       "20. 'CD123_PECy5'\n",
       "21. 'PE.Cy5_5.A'\n",
       "22. 'CD25_PECy7'\n",
       "23. 'CD57_BV421'\n",
       "24. 'CD3_BV480'\n",
       "25. 'BV570.A'\n",
       "26. 'BV605.A'\n",
       "27. 'CD15_BV650'\n",
       "28. 'CD27_BV711'\n",
       "29. 'CD20_BV750'\n",
       "30. 'CD197_BV786'\n",
       "\n",
       "\n"
      ],
      "text/plain": [
       " [1] \"FSC.A\"          \"SSC.A\"          \"CD45RA_BB515\"   \"CD94_BB630\"    \n",
       " [5] \"CD195_BB660\"    \"CD8_PerCP.Cy55\" \"CD38_BB790\"     \"CD127_AF647\"   \n",
       " [9] \"CD56_APCR700\"   \"HLADR_APCCy7\"   \"CD32_BUV395\"    \"CD16_BUV496\"   \n",
       "[13] \"CD19_BUV563\"    \"IgD_BUV615\"     \"CD4_BUV661\"     \"CD64_BUV737\"   \n",
       "[17] \"CD14_BUV805\"    \"CD11c_PE\"       \"CD13_PECF594\"   \"CD123_PECy5\"   \n",
       "[21] \"PE.Cy5_5.A\"     \"CD25_PECy7\"     \"CD57_BV421\"     \"CD3_BV480\"     \n",
       "[25] \"BV570.A\"        \"BV605.A\"        \"CD15_BV650\"     \"CD27_BV711\"    \n",
       "[29] \"CD20_BV750\"     \"CD197_BV786\"   "
      ]
     },
     "metadata": {},
     "output_type": "display_data"
    }
   ],
   "source": [
    "colnames(df)"
   ]
  },
  {
   "cell_type": "code",
   "execution_count": 12,
   "metadata": {},
   "outputs": [
    {
     "data": {
      "text/html": [
       "<table>\n",
       "<thead><tr><th scope=col>FSC.A</th><th scope=col>SSC.A</th><th scope=col>CD45RA_BB515</th><th scope=col>CD94_BB630</th><th scope=col>CD195_BB660</th><th scope=col>CD8_PerCP.Cy55</th><th scope=col>CD38_BB790</th><th scope=col>CD127_AF647</th><th scope=col>CD56_APCR700</th><th scope=col>HLADR_APCCy7</th><th scope=col>⋯</th><th scope=col>PE.Cy5_5.A</th><th scope=col>CD25_PECy7</th><th scope=col>CD57_BV421</th><th scope=col>CD3_BV480</th><th scope=col>BV570.A</th><th scope=col>BV605.A</th><th scope=col>CD15_BV650</th><th scope=col>CD27_BV711</th><th scope=col>CD20_BV750</th><th scope=col>CD197_BV786</th></tr></thead>\n",
       "<tbody>\n",
       "\t<tr><td> 79154.35  </td><td>5.624549   </td><td>3.8211818  </td><td>2.3091235  </td><td>1.2414309  </td><td> 2.9135091 </td><td>-0.3884503 </td><td> 0.4055518 </td><td>2.0170150  </td><td> 1.1613113 </td><td>⋯          </td><td> 3.344211  </td><td> 0.6801387 </td><td>1.546033   </td><td>5.750493   </td><td>-0.9477741 </td><td>1.710801   </td><td>-0.07358696</td><td>0.90774632 </td><td>-0.1815819 </td><td>-0.3761730 </td></tr>\n",
       "\t<tr><td>124136.11  </td><td>7.366415   </td><td>0.3953270  </td><td>1.3615631  </td><td>0.7480631  </td><td> 0.7724101 </td><td> 1.4852096 </td><td>-0.3258302 </td><td>0.6746473  </td><td> 0.8343109 </td><td>⋯          </td><td>-2.435252  </td><td>-0.3144020 </td><td>4.324942   </td><td>1.553896   </td><td> 1.0916839 </td><td>2.829710   </td><td> 5.11753654</td><td>0.06205167 </td><td>-0.4385712 </td><td> 0.9617838 </td></tr>\n",
       "\t<tr><td>124842.20  </td><td>7.982313   </td><td>0.4318334  </td><td>0.2001006  </td><td>0.5188718  </td><td>-0.3806170 </td><td> 1.1004614 </td><td> 0.6486881 </td><td>2.0015900  </td><td>-0.3130656 </td><td>⋯          </td><td> 2.452153  </td><td> 0.1767815 </td><td>4.666556   </td><td>1.952706   </td><td> 0.4128585 </td><td>3.192539   </td><td> 5.17661095</td><td>0.65093893 </td><td>-0.6169148 </td><td> 1.2889181 </td></tr>\n",
       "</tbody>\n",
       "</table>\n"
      ],
      "text/latex": [
       "\\begin{tabular}{r|llllllllllllllllllllllllllllll}\n",
       " FSC.A & SSC.A & CD45RA\\_BB515 & CD94\\_BB630 & CD195\\_BB660 & CD8\\_PerCP.Cy55 & CD38\\_BB790 & CD127\\_AF647 & CD56\\_APCR700 & HLADR\\_APCCy7 & ⋯ & PE.Cy5\\_5.A & CD25\\_PECy7 & CD57\\_BV421 & CD3\\_BV480 & BV570.A & BV605.A & CD15\\_BV650 & CD27\\_BV711 & CD20\\_BV750 & CD197\\_BV786\\\\\n",
       "\\hline\n",
       "\t  79154.35   & 5.624549    & 3.8211818   & 2.3091235   & 1.2414309   &  2.9135091  & -0.3884503  &  0.4055518  & 2.0170150   &  1.1613113  & ⋯           &  3.344211   &  0.6801387  & 1.546033    & 5.750493    & -0.9477741  & 1.710801    & -0.07358696 & 0.90774632  & -0.1815819  & -0.3761730 \\\\\n",
       "\t 124136.11   & 7.366415    & 0.3953270   & 1.3615631   & 0.7480631   &  0.7724101  &  1.4852096  & -0.3258302  & 0.6746473   &  0.8343109  & ⋯           & -2.435252   & -0.3144020  & 4.324942    & 1.553896    &  1.0916839  & 2.829710    &  5.11753654 & 0.06205167  & -0.4385712  &  0.9617838 \\\\\n",
       "\t 124842.20   & 7.982313    & 0.4318334   & 0.2001006   & 0.5188718   & -0.3806170  &  1.1004614  &  0.6486881  & 2.0015900   & -0.3130656  & ⋯           &  2.452153   &  0.1767815  & 4.666556    & 1.952706    &  0.4128585  & 3.192539    &  5.17661095 & 0.65093893  & -0.6169148  &  1.2889181 \\\\\n",
       "\\end{tabular}\n"
      ],
      "text/markdown": [
       "\n",
       "FSC.A | SSC.A | CD45RA_BB515 | CD94_BB630 | CD195_BB660 | CD8_PerCP.Cy55 | CD38_BB790 | CD127_AF647 | CD56_APCR700 | HLADR_APCCy7 | ⋯ | PE.Cy5_5.A | CD25_PECy7 | CD57_BV421 | CD3_BV480 | BV570.A | BV605.A | CD15_BV650 | CD27_BV711 | CD20_BV750 | CD197_BV786 | \n",
       "|---|---|---|\n",
       "|  79154.35   | 5.624549    | 3.8211818   | 2.3091235   | 1.2414309   |  2.9135091  | -0.3884503  |  0.4055518  | 2.0170150   |  1.1613113  | ⋯           |  3.344211   |  0.6801387  | 1.546033    | 5.750493    | -0.9477741  | 1.710801    | -0.07358696 | 0.90774632  | -0.1815819  | -0.3761730  | \n",
       "| 124136.11   | 7.366415    | 0.3953270   | 1.3615631   | 0.7480631   |  0.7724101  |  1.4852096  | -0.3258302  | 0.6746473   |  0.8343109  | ⋯           | -2.435252   | -0.3144020  | 4.324942    | 1.553896    |  1.0916839  | 2.829710    |  5.11753654 | 0.06205167  | -0.4385712  |  0.9617838  | \n",
       "| 124842.20   | 7.982313    | 0.4318334   | 0.2001006   | 0.5188718   | -0.3806170  |  1.1004614  |  0.6486881  | 2.0015900   | -0.3130656  | ⋯           |  2.452153   |  0.1767815  | 4.666556    | 1.952706    |  0.4128585  | 3.192539    |  5.17661095 | 0.65093893  | -0.6169148  |  1.2889181  | \n",
       "\n",
       "\n"
      ],
      "text/plain": [
       "  FSC.A     SSC.A    CD45RA_BB515 CD94_BB630 CD195_BB660 CD8_PerCP.Cy55\n",
       "1  79154.35 5.624549 3.8211818    2.3091235  1.2414309    2.9135091    \n",
       "2 124136.11 7.366415 0.3953270    1.3615631  0.7480631    0.7724101    \n",
       "3 124842.20 7.982313 0.4318334    0.2001006  0.5188718   -0.3806170    \n",
       "  CD38_BB790 CD127_AF647 CD56_APCR700 HLADR_APCCy7 ⋯ PE.Cy5_5.A CD25_PECy7\n",
       "1 -0.3884503  0.4055518  2.0170150     1.1613113   ⋯  3.344211   0.6801387\n",
       "2  1.4852096 -0.3258302  0.6746473     0.8343109   ⋯ -2.435252  -0.3144020\n",
       "3  1.1004614  0.6486881  2.0015900    -0.3130656   ⋯  2.452153   0.1767815\n",
       "  CD57_BV421 CD3_BV480 BV570.A    BV605.A  CD15_BV650  CD27_BV711 CD20_BV750\n",
       "1 1.546033   5.750493  -0.9477741 1.710801 -0.07358696 0.90774632 -0.1815819\n",
       "2 4.324942   1.553896   1.0916839 2.829710  5.11753654 0.06205167 -0.4385712\n",
       "3 4.666556   1.952706   0.4128585 3.192539  5.17661095 0.65093893 -0.6169148\n",
       "  CD197_BV786\n",
       "1 -0.3761730 \n",
       "2  0.9617838 \n",
       "3  1.2889181 "
      ]
     },
     "metadata": {},
     "output_type": "display_data"
    }
   ],
   "source": [
    "head(df, n=3)"
   ]
  },
  {
   "cell_type": "code",
   "execution_count": 13,
   "metadata": {},
   "outputs": [
    {
     "data": {
      "text/html": [
       "<table>\n",
       "<thead><tr><th scope=col>FSC.A</th><th scope=col>SSC.A</th><th scope=col>CD45RA_BB515</th><th scope=col>CD94_BB630</th><th scope=col>CD195_BB660</th><th scope=col>CD8_PerCP.Cy55</th><th scope=col>CD38_BB790</th><th scope=col>CD127_AF647</th><th scope=col>CD56_APCR700</th><th scope=col>HLADR_APCCy7</th><th scope=col>⋯</th><th scope=col>PE.Cy5_5.A</th><th scope=col>CD25_PECy7</th><th scope=col>CD57_BV421</th><th scope=col>CD3_BV480</th><th scope=col>BV570.A</th><th scope=col>BV605.A</th><th scope=col>CD15_BV650</th><th scope=col>CD27_BV711</th><th scope=col>CD20_BV750</th><th scope=col>CD197_BV786</th></tr></thead>\n",
       "<tbody>\n",
       "\t<tr><td>118722.59  </td><td>7.815092   </td><td>0.6738266  </td><td>1.1630605  </td><td> 0.2695481 </td><td>-0.3761343 </td><td>1.426748   </td><td>-1.9248850 </td><td> 3.5698423 </td><td> 0.02724619</td><td>⋯          </td><td> 2.643675  </td><td>-0.5393955 </td><td>5.081773   </td><td>0.6878659  </td><td>-1.2314630 </td><td> 3.4089437 </td><td>5.9423451  </td><td>-0.4161369 </td><td>0.3781908  </td><td> 0.3260019 </td></tr>\n",
       "\t<tr><td> 68959.57  </td><td>5.486153   </td><td>5.5829797  </td><td>0.9087318  </td><td>-0.2065162 </td><td> 0.1396823 </td><td>2.561771   </td><td> 2.0639863 </td><td>-1.4110574 </td><td>-0.09648702</td><td>⋯          </td><td>-1.857017  </td><td> 0.9108918 </td><td>2.635946   </td><td>6.4569082  </td><td> 0.8375989 </td><td>-0.7982778 </td><td>0.8290519  </td><td> 3.1861739 </td><td>0.3039513  </td><td> 1.6742320 </td></tr>\n",
       "\t<tr><td>121045.34  </td><td>7.568907   </td><td>0.2126726  </td><td>1.3129181  </td><td> 1.1642168 </td><td>-0.9301268 </td><td>1.375308   </td><td> 0.7516499 </td><td>-0.8330962 </td><td> 0.06931397</td><td>⋯          </td><td> 3.084723  </td><td>-0.4733180 </td><td>4.551968   </td><td>1.4523821  </td><td>-0.7098041 </td><td> 3.1914356 </td><td>5.1785817  </td><td> 0.4184261 </td><td>0.2184055  </td><td>-0.2717281 </td></tr>\n",
       "</tbody>\n",
       "</table>\n"
      ],
      "text/latex": [
       "\\begin{tabular}{r|llllllllllllllllllllllllllllll}\n",
       " FSC.A & SSC.A & CD45RA\\_BB515 & CD94\\_BB630 & CD195\\_BB660 & CD8\\_PerCP.Cy55 & CD38\\_BB790 & CD127\\_AF647 & CD56\\_APCR700 & HLADR\\_APCCy7 & ⋯ & PE.Cy5\\_5.A & CD25\\_PECy7 & CD57\\_BV421 & CD3\\_BV480 & BV570.A & BV605.A & CD15\\_BV650 & CD27\\_BV711 & CD20\\_BV750 & CD197\\_BV786\\\\\n",
       "\\hline\n",
       "\t 118722.59   & 7.815092    & 0.6738266   & 1.1630605   &  0.2695481  & -0.3761343  & 1.426748    & -1.9248850  &  3.5698423  &  0.02724619 & ⋯           &  2.643675   & -0.5393955  & 5.081773    & 0.6878659   & -1.2314630  &  3.4089437  & 5.9423451   & -0.4161369  & 0.3781908   &  0.3260019 \\\\\n",
       "\t  68959.57   & 5.486153    & 5.5829797   & 0.9087318   & -0.2065162  &  0.1396823  & 2.561771    &  2.0639863  & -1.4110574  & -0.09648702 & ⋯           & -1.857017   &  0.9108918  & 2.635946    & 6.4569082   &  0.8375989  & -0.7982778  & 0.8290519   &  3.1861739  & 0.3039513   &  1.6742320 \\\\\n",
       "\t 121045.34   & 7.568907    & 0.2126726   & 1.3129181   &  1.1642168  & -0.9301268  & 1.375308    &  0.7516499  & -0.8330962  &  0.06931397 & ⋯           &  3.084723   & -0.4733180  & 4.551968    & 1.4523821   & -0.7098041  &  3.1914356  & 5.1785817   &  0.4184261  & 0.2184055   & -0.2717281 \\\\\n",
       "\\end{tabular}\n"
      ],
      "text/markdown": [
       "\n",
       "FSC.A | SSC.A | CD45RA_BB515 | CD94_BB630 | CD195_BB660 | CD8_PerCP.Cy55 | CD38_BB790 | CD127_AF647 | CD56_APCR700 | HLADR_APCCy7 | ⋯ | PE.Cy5_5.A | CD25_PECy7 | CD57_BV421 | CD3_BV480 | BV570.A | BV605.A | CD15_BV650 | CD27_BV711 | CD20_BV750 | CD197_BV786 | \n",
       "|---|---|---|\n",
       "| 118722.59   | 7.815092    | 0.6738266   | 1.1630605   |  0.2695481  | -0.3761343  | 1.426748    | -1.9248850  |  3.5698423  |  0.02724619 | ⋯           |  2.643675   | -0.5393955  | 5.081773    | 0.6878659   | -1.2314630  |  3.4089437  | 5.9423451   | -0.4161369  | 0.3781908   |  0.3260019  | \n",
       "|  68959.57   | 5.486153    | 5.5829797   | 0.9087318   | -0.2065162  |  0.1396823  | 2.561771    |  2.0639863  | -1.4110574  | -0.09648702 | ⋯           | -1.857017   |  0.9108918  | 2.635946    | 6.4569082   |  0.8375989  | -0.7982778  | 0.8290519   |  3.1861739  | 0.3039513   |  1.6742320  | \n",
       "| 121045.34   | 7.568907    | 0.2126726   | 1.3129181   |  1.1642168  | -0.9301268  | 1.375308    |  0.7516499  | -0.8330962  |  0.06931397 | ⋯           |  3.084723   | -0.4733180  | 4.551968    | 1.4523821   | -0.7098041  |  3.1914356  | 5.1785817   |  0.4184261  | 0.2184055   | -0.2717281  | \n",
       "\n",
       "\n"
      ],
      "text/plain": [
       "  FSC.A     SSC.A    CD45RA_BB515 CD94_BB630 CD195_BB660 CD8_PerCP.Cy55\n",
       "1 118722.59 7.815092 0.6738266    1.1630605   0.2695481  -0.3761343    \n",
       "2  68959.57 5.486153 5.5829797    0.9087318  -0.2065162   0.1396823    \n",
       "3 121045.34 7.568907 0.2126726    1.3129181   1.1642168  -0.9301268    \n",
       "  CD38_BB790 CD127_AF647 CD56_APCR700 HLADR_APCCy7 ⋯ PE.Cy5_5.A CD25_PECy7\n",
       "1 1.426748   -1.9248850   3.5698423    0.02724619  ⋯  2.643675  -0.5393955\n",
       "2 2.561771    2.0639863  -1.4110574   -0.09648702  ⋯ -1.857017   0.9108918\n",
       "3 1.375308    0.7516499  -0.8330962    0.06931397  ⋯  3.084723  -0.4733180\n",
       "  CD57_BV421 CD3_BV480 BV570.A    BV605.A    CD15_BV650 CD27_BV711 CD20_BV750\n",
       "1 5.081773   0.6878659 -1.2314630  3.4089437 5.9423451  -0.4161369 0.3781908 \n",
       "2 2.635946   6.4569082  0.8375989 -0.7982778 0.8290519   3.1861739 0.3039513 \n",
       "3 4.551968   1.4523821 -0.7098041  3.1914356 5.1785817   0.4184261 0.2184055 \n",
       "  CD197_BV786\n",
       "1  0.3260019 \n",
       "2  1.6742320 \n",
       "3 -0.2717281 "
      ]
     },
     "metadata": {},
     "output_type": "display_data"
    }
   ],
   "source": [
    "tail(df, n=3)"
   ]
  },
  {
   "cell_type": "code",
   "execution_count": 14,
   "metadata": {},
   "outputs": [
    {
     "data": {
      "text/html": [
       "<table>\n",
       "<thead><tr><th scope=col>FSC.A</th><th scope=col>SSC.A</th><th scope=col>CD45RA_BB515</th><th scope=col>CD94_BB630</th><th scope=col>CD195_BB660</th><th scope=col>CD8_PerCP.Cy55</th><th scope=col>CD38_BB790</th><th scope=col>CD127_AF647</th><th scope=col>CD56_APCR700</th><th scope=col>HLADR_APCCy7</th><th scope=col>⋯</th><th scope=col>PE.Cy5_5.A</th><th scope=col>CD25_PECy7</th><th scope=col>CD57_BV421</th><th scope=col>CD3_BV480</th><th scope=col>BV570.A</th><th scope=col>BV605.A</th><th scope=col>CD15_BV650</th><th scope=col>CD27_BV711</th><th scope=col>CD20_BV750</th><th scope=col>CD197_BV786</th></tr></thead>\n",
       "<tbody>\n",
       "\t<tr><td>141946.73  </td><td>7.779364   </td><td>1.5440080  </td><td>1.919609   </td><td> 0.1051243 </td><td>-0.5328124 </td><td>1.664032   </td><td>-0.6549042 </td><td>-1.3455602 </td><td>0.8950400  </td><td>⋯          </td><td> 1.906078  </td><td> 0.2609213 </td><td>4.709330   </td><td>1.961062   </td><td> 1.4615284 </td><td> 2.365659  </td><td>5.314695   </td><td> 0.2509619 </td><td> 0.42037576</td><td>-0.6420011 </td></tr>\n",
       "\t<tr><td> 72483.54  </td><td>5.400058   </td><td>7.1476574  </td><td>1.242626   </td><td>-0.2841934 </td><td>-0.1594057 </td><td>2.487665   </td><td> 1.4247898 </td><td>-1.8998860 </td><td>0.8290732  </td><td>⋯          </td><td> 1.262838  </td><td>-0.0889487 </td><td>2.449837   </td><td>5.759773   </td><td> 0.6406636 </td><td>-1.882274  </td><td>1.642246   </td><td> 3.2458515 </td><td>-0.09405882</td><td> 1.6326449 </td></tr>\n",
       "\t<tr><td>134843.73  </td><td>7.365109   </td><td>0.7618124  </td><td>1.940849   </td><td>-0.4206106 </td><td> 0.6504782 </td><td>1.198363   </td><td>-0.6949638 </td><td> 0.1579234 </td><td>1.2519375  </td><td>⋯          </td><td>-2.507244  </td><td>-0.4036633 </td><td>4.537408   </td><td>1.235191   </td><td>-1.3276392 </td><td> 2.584052  </td><td>5.201757   </td><td>-0.3781130 </td><td> 0.23864280</td><td> 0.1754806 </td></tr>\n",
       "</tbody>\n",
       "</table>\n"
      ],
      "text/latex": [
       "\\begin{tabular}{r|llllllllllllllllllllllllllllll}\n",
       " FSC.A & SSC.A & CD45RA\\_BB515 & CD94\\_BB630 & CD195\\_BB660 & CD8\\_PerCP.Cy55 & CD38\\_BB790 & CD127\\_AF647 & CD56\\_APCR700 & HLADR\\_APCCy7 & ⋯ & PE.Cy5\\_5.A & CD25\\_PECy7 & CD57\\_BV421 & CD3\\_BV480 & BV570.A & BV605.A & CD15\\_BV650 & CD27\\_BV711 & CD20\\_BV750 & CD197\\_BV786\\\\\n",
       "\\hline\n",
       "\t 141946.73   & 7.779364    & 1.5440080   & 1.919609    &  0.1051243  & -0.5328124  & 1.664032    & -0.6549042  & -1.3455602  & 0.8950400   & ⋯           &  1.906078   &  0.2609213  & 4.709330    & 1.961062    &  1.4615284  &  2.365659   & 5.314695    &  0.2509619  &  0.42037576 & -0.6420011 \\\\\n",
       "\t  72483.54   & 5.400058    & 7.1476574   & 1.242626    & -0.2841934  & -0.1594057  & 2.487665    &  1.4247898  & -1.8998860  & 0.8290732   & ⋯           &  1.262838   & -0.0889487  & 2.449837    & 5.759773    &  0.6406636  & -1.882274   & 1.642246    &  3.2458515  & -0.09405882 &  1.6326449 \\\\\n",
       "\t 134843.73   & 7.365109    & 0.7618124   & 1.940849    & -0.4206106  &  0.6504782  & 1.198363    & -0.6949638  &  0.1579234  & 1.2519375   & ⋯           & -2.507244   & -0.4036633  & 4.537408    & 1.235191    & -1.3276392  &  2.584052   & 5.201757    & -0.3781130  &  0.23864280 &  0.1754806 \\\\\n",
       "\\end{tabular}\n"
      ],
      "text/markdown": [
       "\n",
       "FSC.A | SSC.A | CD45RA_BB515 | CD94_BB630 | CD195_BB660 | CD8_PerCP.Cy55 | CD38_BB790 | CD127_AF647 | CD56_APCR700 | HLADR_APCCy7 | ⋯ | PE.Cy5_5.A | CD25_PECy7 | CD57_BV421 | CD3_BV480 | BV570.A | BV605.A | CD15_BV650 | CD27_BV711 | CD20_BV750 | CD197_BV786 | \n",
       "|---|---|---|\n",
       "| 141946.73   | 7.779364    | 1.5440080   | 1.919609    |  0.1051243  | -0.5328124  | 1.664032    | -0.6549042  | -1.3455602  | 0.8950400   | ⋯           |  1.906078   |  0.2609213  | 4.709330    | 1.961062    |  1.4615284  |  2.365659   | 5.314695    |  0.2509619  |  0.42037576 | -0.6420011  | \n",
       "|  72483.54   | 5.400058    | 7.1476574   | 1.242626    | -0.2841934  | -0.1594057  | 2.487665    |  1.4247898  | -1.8998860  | 0.8290732   | ⋯           |  1.262838   | -0.0889487  | 2.449837    | 5.759773    |  0.6406636  | -1.882274   | 1.642246    |  3.2458515  | -0.09405882 |  1.6326449  | \n",
       "| 134843.73   | 7.365109    | 0.7618124   | 1.940849    | -0.4206106  |  0.6504782  | 1.198363    | -0.6949638  |  0.1579234  | 1.2519375   | ⋯           | -2.507244   | -0.4036633  | 4.537408    | 1.235191    | -1.3276392  |  2.584052   | 5.201757    | -0.3781130  |  0.23864280 |  0.1754806  | \n",
       "\n",
       "\n"
      ],
      "text/plain": [
       "  FSC.A     SSC.A    CD45RA_BB515 CD94_BB630 CD195_BB660 CD8_PerCP.Cy55\n",
       "1 141946.73 7.779364 1.5440080    1.919609    0.1051243  -0.5328124    \n",
       "2  72483.54 5.400058 7.1476574    1.242626   -0.2841934  -0.1594057    \n",
       "3 134843.73 7.365109 0.7618124    1.940849   -0.4206106   0.6504782    \n",
       "  CD38_BB790 CD127_AF647 CD56_APCR700 HLADR_APCCy7 ⋯ PE.Cy5_5.A CD25_PECy7\n",
       "1 1.664032   -0.6549042  -1.3455602   0.8950400    ⋯  1.906078   0.2609213\n",
       "2 2.487665    1.4247898  -1.8998860   0.8290732    ⋯  1.262838  -0.0889487\n",
       "3 1.198363   -0.6949638   0.1579234   1.2519375    ⋯ -2.507244  -0.4036633\n",
       "  CD57_BV421 CD3_BV480 BV570.A    BV605.A   CD15_BV650 CD27_BV711 CD20_BV750 \n",
       "1 4.709330   1.961062   1.4615284  2.365659 5.314695    0.2509619  0.42037576\n",
       "2 2.449837   5.759773   0.6406636 -1.882274 1.642246    3.2458515 -0.09405882\n",
       "3 4.537408   1.235191  -1.3276392  2.584052 5.201757   -0.3781130  0.23864280\n",
       "  CD197_BV786\n",
       "1 -0.6420011 \n",
       "2  1.6326449 \n",
       "3  0.1754806 "
      ]
     },
     "metadata": {},
     "output_type": "display_data"
    }
   ],
   "source": [
    "sample_n(df, 3)"
   ]
  },
  {
   "cell_type": "markdown",
   "metadata": {},
   "source": [
    "#### Piping"
   ]
  },
  {
   "cell_type": "code",
   "execution_count": 15,
   "metadata": {},
   "outputs": [
    {
     "data": {
      "text/html": [
       "<table>\n",
       "<thead><tr><th scope=col>FSC.A</th><th scope=col>SSC.A</th><th scope=col>CD45RA_BB515</th><th scope=col>CD94_BB630</th><th scope=col>CD195_BB660</th><th scope=col>CD8_PerCP.Cy55</th><th scope=col>CD38_BB790</th><th scope=col>CD127_AF647</th><th scope=col>CD56_APCR700</th><th scope=col>HLADR_APCCy7</th><th scope=col>⋯</th><th scope=col>PE.Cy5_5.A</th><th scope=col>CD25_PECy7</th><th scope=col>CD57_BV421</th><th scope=col>CD3_BV480</th><th scope=col>BV570.A</th><th scope=col>BV605.A</th><th scope=col>CD15_BV650</th><th scope=col>CD27_BV711</th><th scope=col>CD20_BV750</th><th scope=col>CD197_BV786</th></tr></thead>\n",
       "<tbody>\n",
       "\t<tr><td>147816.77  </td><td>7.692855   </td><td>1.137526   </td><td>0.1908337  </td><td>0.6741691  </td><td> 0.1731744 </td><td>0.8188692  </td><td>-0.4124186 </td><td>1.955770   </td><td> 0.9753729 </td><td>⋯          </td><td>-1.279034  </td><td> 0.86353821</td><td>4.402926   </td><td>2.239739   </td><td> 0.5127817 </td><td>2.893812   </td><td>4.8312922  </td><td>0.06432857 </td><td> 0.07818439</td><td> 1.25898933</td></tr>\n",
       "\t<tr><td> 97029.99  </td><td>7.632838   </td><td>1.175190   </td><td>1.9888933  </td><td>0.6361272  </td><td>-0.7015143 </td><td>1.9020078  </td><td>-0.9731231 </td><td>2.502786   </td><td> 0.2125455 </td><td>⋯          </td><td> 2.804643  </td><td> 0.05957562</td><td>4.705359   </td><td>2.093060   </td><td>-0.1286883 </td><td>2.960867   </td><td>5.4447317  </td><td>0.31910658 </td><td> 0.27965164</td><td>-0.07704708</td></tr>\n",
       "\t<tr><td> 92332.29  </td><td>5.912672   </td><td>6.873731   </td><td>3.2435505  </td><td>1.0448424  </td><td> 2.0686421 </td><td>0.6413540  </td><td> 0.1413259 </td><td>2.766953   </td><td>-0.3512652 </td><td>⋯          </td><td> 4.110049  </td><td>-0.88639355</td><td>6.121744   </td><td>5.198122   </td><td>-1.0062705 </td><td>2.329746   </td><td>0.2777683  </td><td>1.16031623 </td><td>-0.44501862</td><td> 0.33956066</td></tr>\n",
       "</tbody>\n",
       "</table>\n"
      ],
      "text/latex": [
       "\\begin{tabular}{r|llllllllllllllllllllllllllllll}\n",
       " FSC.A & SSC.A & CD45RA\\_BB515 & CD94\\_BB630 & CD195\\_BB660 & CD8\\_PerCP.Cy55 & CD38\\_BB790 & CD127\\_AF647 & CD56\\_APCR700 & HLADR\\_APCCy7 & ⋯ & PE.Cy5\\_5.A & CD25\\_PECy7 & CD57\\_BV421 & CD3\\_BV480 & BV570.A & BV605.A & CD15\\_BV650 & CD27\\_BV711 & CD20\\_BV750 & CD197\\_BV786\\\\\n",
       "\\hline\n",
       "\t 147816.77   & 7.692855    & 1.137526    & 0.1908337   & 0.6741691   &  0.1731744  & 0.8188692   & -0.4124186  & 1.955770    &  0.9753729  & ⋯           & -1.279034   &  0.86353821 & 4.402926    & 2.239739    &  0.5127817  & 2.893812    & 4.8312922   & 0.06432857  &  0.07818439 &  1.25898933\\\\\n",
       "\t  97029.99   & 7.632838    & 1.175190    & 1.9888933   & 0.6361272   & -0.7015143  & 1.9020078   & -0.9731231  & 2.502786    &  0.2125455  & ⋯           &  2.804643   &  0.05957562 & 4.705359    & 2.093060    & -0.1286883  & 2.960867    & 5.4447317   & 0.31910658  &  0.27965164 & -0.07704708\\\\\n",
       "\t  92332.29   & 5.912672    & 6.873731    & 3.2435505   & 1.0448424   &  2.0686421  & 0.6413540   &  0.1413259  & 2.766953    & -0.3512652  & ⋯           &  4.110049   & -0.88639355 & 6.121744    & 5.198122    & -1.0062705  & 2.329746    & 0.2777683   & 1.16031623  & -0.44501862 &  0.33956066\\\\\n",
       "\\end{tabular}\n"
      ],
      "text/markdown": [
       "\n",
       "FSC.A | SSC.A | CD45RA_BB515 | CD94_BB630 | CD195_BB660 | CD8_PerCP.Cy55 | CD38_BB790 | CD127_AF647 | CD56_APCR700 | HLADR_APCCy7 | ⋯ | PE.Cy5_5.A | CD25_PECy7 | CD57_BV421 | CD3_BV480 | BV570.A | BV605.A | CD15_BV650 | CD27_BV711 | CD20_BV750 | CD197_BV786 | \n",
       "|---|---|---|\n",
       "| 147816.77   | 7.692855    | 1.137526    | 0.1908337   | 0.6741691   |  0.1731744  | 0.8188692   | -0.4124186  | 1.955770    |  0.9753729  | ⋯           | -1.279034   |  0.86353821 | 4.402926    | 2.239739    |  0.5127817  | 2.893812    | 4.8312922   | 0.06432857  |  0.07818439 |  1.25898933 | \n",
       "|  97029.99   | 7.632838    | 1.175190    | 1.9888933   | 0.6361272   | -0.7015143  | 1.9020078   | -0.9731231  | 2.502786    |  0.2125455  | ⋯           |  2.804643   |  0.05957562 | 4.705359    | 2.093060    | -0.1286883  | 2.960867    | 5.4447317   | 0.31910658  |  0.27965164 | -0.07704708 | \n",
       "|  92332.29   | 5.912672    | 6.873731    | 3.2435505   | 1.0448424   |  2.0686421  | 0.6413540   |  0.1413259  | 2.766953    | -0.3512652  | ⋯           |  4.110049   | -0.88639355 | 6.121744    | 5.198122    | -1.0062705  | 2.329746    | 0.2777683   | 1.16031623  | -0.44501862 |  0.33956066 | \n",
       "\n",
       "\n"
      ],
      "text/plain": [
       "  FSC.A     SSC.A    CD45RA_BB515 CD94_BB630 CD195_BB660 CD8_PerCP.Cy55\n",
       "1 147816.77 7.692855 1.137526     0.1908337  0.6741691    0.1731744    \n",
       "2  97029.99 7.632838 1.175190     1.9888933  0.6361272   -0.7015143    \n",
       "3  92332.29 5.912672 6.873731     3.2435505  1.0448424    2.0686421    \n",
       "  CD38_BB790 CD127_AF647 CD56_APCR700 HLADR_APCCy7 ⋯ PE.Cy5_5.A CD25_PECy7 \n",
       "1 0.8188692  -0.4124186  1.955770      0.9753729   ⋯ -1.279034   0.86353821\n",
       "2 1.9020078  -0.9731231  2.502786      0.2125455   ⋯  2.804643   0.05957562\n",
       "3 0.6413540   0.1413259  2.766953     -0.3512652   ⋯  4.110049  -0.88639355\n",
       "  CD57_BV421 CD3_BV480 BV570.A    BV605.A  CD15_BV650 CD27_BV711 CD20_BV750 \n",
       "1 4.402926   2.239739   0.5127817 2.893812 4.8312922  0.06432857  0.07818439\n",
       "2 4.705359   2.093060  -0.1286883 2.960867 5.4447317  0.31910658  0.27965164\n",
       "3 6.121744   5.198122  -1.0062705 2.329746 0.2777683  1.16031623 -0.44501862\n",
       "  CD197_BV786\n",
       "1  1.25898933\n",
       "2 -0.07704708\n",
       "3  0.33956066"
      ]
     },
     "metadata": {},
     "output_type": "display_data"
    }
   ],
   "source": [
    "df %>% head(10) %>% tail(3)"
   ]
  },
  {
   "cell_type": "markdown",
   "metadata": {},
   "source": [
    "#### Can split over several lines for readbility"
   ]
  },
  {
   "cell_type": "code",
   "execution_count": 16,
   "metadata": {},
   "outputs": [
    {
     "data": {
      "text/html": [
       "<table>\n",
       "<thead><tr><th scope=col>FSC.A</th><th scope=col>SSC.A</th><th scope=col>CD45RA_BB515</th><th scope=col>CD94_BB630</th><th scope=col>CD195_BB660</th><th scope=col>CD8_PerCP.Cy55</th><th scope=col>CD38_BB790</th><th scope=col>CD127_AF647</th><th scope=col>CD56_APCR700</th><th scope=col>HLADR_APCCy7</th><th scope=col>⋯</th><th scope=col>PE.Cy5_5.A</th><th scope=col>CD25_PECy7</th><th scope=col>CD57_BV421</th><th scope=col>CD3_BV480</th><th scope=col>BV570.A</th><th scope=col>BV605.A</th><th scope=col>CD15_BV650</th><th scope=col>CD27_BV711</th><th scope=col>CD20_BV750</th><th scope=col>CD197_BV786</th></tr></thead>\n",
       "<tbody>\n",
       "\t<tr><td>147816.77  </td><td>7.692855   </td><td>1.137526   </td><td>0.1908337  </td><td>0.6741691  </td><td> 0.1731744 </td><td>0.8188692  </td><td>-0.4124186 </td><td>1.955770   </td><td> 0.9753729 </td><td>⋯          </td><td>-1.279034  </td><td> 0.86353821</td><td>4.402926   </td><td>2.239739   </td><td> 0.5127817 </td><td>2.893812   </td><td>4.8312922  </td><td>0.06432857 </td><td> 0.07818439</td><td> 1.25898933</td></tr>\n",
       "\t<tr><td> 97029.99  </td><td>7.632838   </td><td>1.175190   </td><td>1.9888933  </td><td>0.6361272  </td><td>-0.7015143 </td><td>1.9020078  </td><td>-0.9731231 </td><td>2.502786   </td><td> 0.2125455 </td><td>⋯          </td><td> 2.804643  </td><td> 0.05957562</td><td>4.705359   </td><td>2.093060   </td><td>-0.1286883 </td><td>2.960867   </td><td>5.4447317  </td><td>0.31910658 </td><td> 0.27965164</td><td>-0.07704708</td></tr>\n",
       "\t<tr><td> 92332.29  </td><td>5.912672   </td><td>6.873731   </td><td>3.2435505  </td><td>1.0448424  </td><td> 2.0686421 </td><td>0.6413540  </td><td> 0.1413259 </td><td>2.766953   </td><td>-0.3512652 </td><td>⋯          </td><td> 4.110049  </td><td>-0.88639355</td><td>6.121744   </td><td>5.198122   </td><td>-1.0062705 </td><td>2.329746   </td><td>0.2777683  </td><td>1.16031623 </td><td>-0.44501862</td><td> 0.33956066</td></tr>\n",
       "</tbody>\n",
       "</table>\n"
      ],
      "text/latex": [
       "\\begin{tabular}{r|llllllllllllllllllllllllllllll}\n",
       " FSC.A & SSC.A & CD45RA\\_BB515 & CD94\\_BB630 & CD195\\_BB660 & CD8\\_PerCP.Cy55 & CD38\\_BB790 & CD127\\_AF647 & CD56\\_APCR700 & HLADR\\_APCCy7 & ⋯ & PE.Cy5\\_5.A & CD25\\_PECy7 & CD57\\_BV421 & CD3\\_BV480 & BV570.A & BV605.A & CD15\\_BV650 & CD27\\_BV711 & CD20\\_BV750 & CD197\\_BV786\\\\\n",
       "\\hline\n",
       "\t 147816.77   & 7.692855    & 1.137526    & 0.1908337   & 0.6741691   &  0.1731744  & 0.8188692   & -0.4124186  & 1.955770    &  0.9753729  & ⋯           & -1.279034   &  0.86353821 & 4.402926    & 2.239739    &  0.5127817  & 2.893812    & 4.8312922   & 0.06432857  &  0.07818439 &  1.25898933\\\\\n",
       "\t  97029.99   & 7.632838    & 1.175190    & 1.9888933   & 0.6361272   & -0.7015143  & 1.9020078   & -0.9731231  & 2.502786    &  0.2125455  & ⋯           &  2.804643   &  0.05957562 & 4.705359    & 2.093060    & -0.1286883  & 2.960867    & 5.4447317   & 0.31910658  &  0.27965164 & -0.07704708\\\\\n",
       "\t  92332.29   & 5.912672    & 6.873731    & 3.2435505   & 1.0448424   &  2.0686421  & 0.6413540   &  0.1413259  & 2.766953    & -0.3512652  & ⋯           &  4.110049   & -0.88639355 & 6.121744    & 5.198122    & -1.0062705  & 2.329746    & 0.2777683   & 1.16031623  & -0.44501862 &  0.33956066\\\\\n",
       "\\end{tabular}\n"
      ],
      "text/markdown": [
       "\n",
       "FSC.A | SSC.A | CD45RA_BB515 | CD94_BB630 | CD195_BB660 | CD8_PerCP.Cy55 | CD38_BB790 | CD127_AF647 | CD56_APCR700 | HLADR_APCCy7 | ⋯ | PE.Cy5_5.A | CD25_PECy7 | CD57_BV421 | CD3_BV480 | BV570.A | BV605.A | CD15_BV650 | CD27_BV711 | CD20_BV750 | CD197_BV786 | \n",
       "|---|---|---|\n",
       "| 147816.77   | 7.692855    | 1.137526    | 0.1908337   | 0.6741691   |  0.1731744  | 0.8188692   | -0.4124186  | 1.955770    |  0.9753729  | ⋯           | -1.279034   |  0.86353821 | 4.402926    | 2.239739    |  0.5127817  | 2.893812    | 4.8312922   | 0.06432857  |  0.07818439 |  1.25898933 | \n",
       "|  97029.99   | 7.632838    | 1.175190    | 1.9888933   | 0.6361272   | -0.7015143  | 1.9020078   | -0.9731231  | 2.502786    |  0.2125455  | ⋯           |  2.804643   |  0.05957562 | 4.705359    | 2.093060    | -0.1286883  | 2.960867    | 5.4447317   | 0.31910658  |  0.27965164 | -0.07704708 | \n",
       "|  92332.29   | 5.912672    | 6.873731    | 3.2435505   | 1.0448424   |  2.0686421  | 0.6413540   |  0.1413259  | 2.766953    | -0.3512652  | ⋯           |  4.110049   | -0.88639355 | 6.121744    | 5.198122    | -1.0062705  | 2.329746    | 0.2777683   | 1.16031623  | -0.44501862 |  0.33956066 | \n",
       "\n",
       "\n"
      ],
      "text/plain": [
       "  FSC.A     SSC.A    CD45RA_BB515 CD94_BB630 CD195_BB660 CD8_PerCP.Cy55\n",
       "1 147816.77 7.692855 1.137526     0.1908337  0.6741691    0.1731744    \n",
       "2  97029.99 7.632838 1.175190     1.9888933  0.6361272   -0.7015143    \n",
       "3  92332.29 5.912672 6.873731     3.2435505  1.0448424    2.0686421    \n",
       "  CD38_BB790 CD127_AF647 CD56_APCR700 HLADR_APCCy7 ⋯ PE.Cy5_5.A CD25_PECy7 \n",
       "1 0.8188692  -0.4124186  1.955770      0.9753729   ⋯ -1.279034   0.86353821\n",
       "2 1.9020078  -0.9731231  2.502786      0.2125455   ⋯  2.804643   0.05957562\n",
       "3 0.6413540   0.1413259  2.766953     -0.3512652   ⋯  4.110049  -0.88639355\n",
       "  CD57_BV421 CD3_BV480 BV570.A    BV605.A  CD15_BV650 CD27_BV711 CD20_BV750 \n",
       "1 4.402926   2.239739   0.5127817 2.893812 4.8312922  0.06432857  0.07818439\n",
       "2 4.705359   2.093060  -0.1286883 2.960867 5.4447317  0.31910658  0.27965164\n",
       "3 6.121744   5.198122  -1.0062705 2.329746 0.2777683  1.16031623 -0.44501862\n",
       "  CD197_BV786\n",
       "1  1.25898933\n",
       "2 -0.07704708\n",
       "3  0.33956066"
      ]
     },
     "metadata": {},
     "output_type": "display_data"
    }
   ],
   "source": [
    "df %>% \n",
    "head(10) %>% \n",
    "tail(3)"
   ]
  },
  {
   "cell_type": "markdown",
   "metadata": {},
   "source": [
    "#### To save piped output, re-assign to new variable"
   ]
  },
  {
   "cell_type": "code",
   "execution_count": 17,
   "metadata": {},
   "outputs": [],
   "source": [
    "x <- df %>% \n",
    "head(10) %>% \n",
    "tail(3)"
   ]
  },
  {
   "cell_type": "code",
   "execution_count": 18,
   "metadata": {},
   "outputs": [
    {
     "data": {
      "text/html": [
       "<table>\n",
       "<thead><tr><th scope=col>FSC.A</th><th scope=col>SSC.A</th><th scope=col>CD45RA_BB515</th><th scope=col>CD94_BB630</th><th scope=col>CD195_BB660</th><th scope=col>CD8_PerCP.Cy55</th><th scope=col>CD38_BB790</th><th scope=col>CD127_AF647</th><th scope=col>CD56_APCR700</th><th scope=col>HLADR_APCCy7</th><th scope=col>⋯</th><th scope=col>PE.Cy5_5.A</th><th scope=col>CD25_PECy7</th><th scope=col>CD57_BV421</th><th scope=col>CD3_BV480</th><th scope=col>BV570.A</th><th scope=col>BV605.A</th><th scope=col>CD15_BV650</th><th scope=col>CD27_BV711</th><th scope=col>CD20_BV750</th><th scope=col>CD197_BV786</th></tr></thead>\n",
       "<tbody>\n",
       "\t<tr><td>147816.77  </td><td>7.692855   </td><td>1.137526   </td><td>0.1908337  </td><td>0.6741691  </td><td> 0.1731744 </td><td>0.8188692  </td><td>-0.4124186 </td><td>1.955770   </td><td> 0.9753729 </td><td>⋯          </td><td>-1.279034  </td><td> 0.86353821</td><td>4.402926   </td><td>2.239739   </td><td> 0.5127817 </td><td>2.893812   </td><td>4.8312922  </td><td>0.06432857 </td><td> 0.07818439</td><td> 1.25898933</td></tr>\n",
       "\t<tr><td> 97029.99  </td><td>7.632838   </td><td>1.175190   </td><td>1.9888933  </td><td>0.6361272  </td><td>-0.7015143 </td><td>1.9020078  </td><td>-0.9731231 </td><td>2.502786   </td><td> 0.2125455 </td><td>⋯          </td><td> 2.804643  </td><td> 0.05957562</td><td>4.705359   </td><td>2.093060   </td><td>-0.1286883 </td><td>2.960867   </td><td>5.4447317  </td><td>0.31910658 </td><td> 0.27965164</td><td>-0.07704708</td></tr>\n",
       "\t<tr><td> 92332.29  </td><td>5.912672   </td><td>6.873731   </td><td>3.2435505  </td><td>1.0448424  </td><td> 2.0686421 </td><td>0.6413540  </td><td> 0.1413259 </td><td>2.766953   </td><td>-0.3512652 </td><td>⋯          </td><td> 4.110049  </td><td>-0.88639355</td><td>6.121744   </td><td>5.198122   </td><td>-1.0062705 </td><td>2.329746   </td><td>0.2777683  </td><td>1.16031623 </td><td>-0.44501862</td><td> 0.33956066</td></tr>\n",
       "</tbody>\n",
       "</table>\n"
      ],
      "text/latex": [
       "\\begin{tabular}{r|llllllllllllllllllllllllllllll}\n",
       " FSC.A & SSC.A & CD45RA\\_BB515 & CD94\\_BB630 & CD195\\_BB660 & CD8\\_PerCP.Cy55 & CD38\\_BB790 & CD127\\_AF647 & CD56\\_APCR700 & HLADR\\_APCCy7 & ⋯ & PE.Cy5\\_5.A & CD25\\_PECy7 & CD57\\_BV421 & CD3\\_BV480 & BV570.A & BV605.A & CD15\\_BV650 & CD27\\_BV711 & CD20\\_BV750 & CD197\\_BV786\\\\\n",
       "\\hline\n",
       "\t 147816.77   & 7.692855    & 1.137526    & 0.1908337   & 0.6741691   &  0.1731744  & 0.8188692   & -0.4124186  & 1.955770    &  0.9753729  & ⋯           & -1.279034   &  0.86353821 & 4.402926    & 2.239739    &  0.5127817  & 2.893812    & 4.8312922   & 0.06432857  &  0.07818439 &  1.25898933\\\\\n",
       "\t  97029.99   & 7.632838    & 1.175190    & 1.9888933   & 0.6361272   & -0.7015143  & 1.9020078   & -0.9731231  & 2.502786    &  0.2125455  & ⋯           &  2.804643   &  0.05957562 & 4.705359    & 2.093060    & -0.1286883  & 2.960867    & 5.4447317   & 0.31910658  &  0.27965164 & -0.07704708\\\\\n",
       "\t  92332.29   & 5.912672    & 6.873731    & 3.2435505   & 1.0448424   &  2.0686421  & 0.6413540   &  0.1413259  & 2.766953    & -0.3512652  & ⋯           &  4.110049   & -0.88639355 & 6.121744    & 5.198122    & -1.0062705  & 2.329746    & 0.2777683   & 1.16031623  & -0.44501862 &  0.33956066\\\\\n",
       "\\end{tabular}\n"
      ],
      "text/markdown": [
       "\n",
       "FSC.A | SSC.A | CD45RA_BB515 | CD94_BB630 | CD195_BB660 | CD8_PerCP.Cy55 | CD38_BB790 | CD127_AF647 | CD56_APCR700 | HLADR_APCCy7 | ⋯ | PE.Cy5_5.A | CD25_PECy7 | CD57_BV421 | CD3_BV480 | BV570.A | BV605.A | CD15_BV650 | CD27_BV711 | CD20_BV750 | CD197_BV786 | \n",
       "|---|---|---|\n",
       "| 147816.77   | 7.692855    | 1.137526    | 0.1908337   | 0.6741691   |  0.1731744  | 0.8188692   | -0.4124186  | 1.955770    |  0.9753729  | ⋯           | -1.279034   |  0.86353821 | 4.402926    | 2.239739    |  0.5127817  | 2.893812    | 4.8312922   | 0.06432857  |  0.07818439 |  1.25898933 | \n",
       "|  97029.99   | 7.632838    | 1.175190    | 1.9888933   | 0.6361272   | -0.7015143  | 1.9020078   | -0.9731231  | 2.502786    |  0.2125455  | ⋯           |  2.804643   |  0.05957562 | 4.705359    | 2.093060    | -0.1286883  | 2.960867    | 5.4447317   | 0.31910658  |  0.27965164 | -0.07704708 | \n",
       "|  92332.29   | 5.912672    | 6.873731    | 3.2435505   | 1.0448424   |  2.0686421  | 0.6413540   |  0.1413259  | 2.766953    | -0.3512652  | ⋯           |  4.110049   | -0.88639355 | 6.121744    | 5.198122    | -1.0062705  | 2.329746    | 0.2777683   | 1.16031623  | -0.44501862 |  0.33956066 | \n",
       "\n",
       "\n"
      ],
      "text/plain": [
       "  FSC.A     SSC.A    CD45RA_BB515 CD94_BB630 CD195_BB660 CD8_PerCP.Cy55\n",
       "1 147816.77 7.692855 1.137526     0.1908337  0.6741691    0.1731744    \n",
       "2  97029.99 7.632838 1.175190     1.9888933  0.6361272   -0.7015143    \n",
       "3  92332.29 5.912672 6.873731     3.2435505  1.0448424    2.0686421    \n",
       "  CD38_BB790 CD127_AF647 CD56_APCR700 HLADR_APCCy7 ⋯ PE.Cy5_5.A CD25_PECy7 \n",
       "1 0.8188692  -0.4124186  1.955770      0.9753729   ⋯ -1.279034   0.86353821\n",
       "2 1.9020078  -0.9731231  2.502786      0.2125455   ⋯  2.804643   0.05957562\n",
       "3 0.6413540   0.1413259  2.766953     -0.3512652   ⋯  4.110049  -0.88639355\n",
       "  CD57_BV421 CD3_BV480 BV570.A    BV605.A  CD15_BV650 CD27_BV711 CD20_BV750 \n",
       "1 4.402926   2.239739   0.5127817 2.893812 4.8312922  0.06432857  0.07818439\n",
       "2 4.705359   2.093060  -0.1286883 2.960867 5.4447317  0.31910658  0.27965164\n",
       "3 6.121744   5.198122  -1.0062705 2.329746 0.2777683  1.16031623 -0.44501862\n",
       "  CD197_BV786\n",
       "1  1.25898933\n",
       "2 -0.07704708\n",
       "3  0.33956066"
      ]
     },
     "metadata": {},
     "output_type": "display_data"
    }
   ],
   "source": [
    "x"
   ]
  },
  {
   "cell_type": "markdown",
   "metadata": {},
   "source": [
    "#### Subsetting data"
   ]
  },
  {
   "cell_type": "code",
   "execution_count": 19,
   "metadata": {},
   "outputs": [
    {
     "data": {
      "text/html": [
       "<table>\n",
       "<thead><tr><th scope=col>CD45RA_BB515</th><th scope=col>CD94_BB630</th><th scope=col>CD8_PerCP.Cy55</th></tr></thead>\n",
       "<tbody>\n",
       "\t<tr><td>3.8211818 </td><td>2.3091235 </td><td> 2.9135091</td></tr>\n",
       "\t<tr><td>0.3953270 </td><td>1.3615631 </td><td> 0.7724101</td></tr>\n",
       "\t<tr><td>0.4318334 </td><td>0.2001006 </td><td>-0.3806170</td></tr>\n",
       "</tbody>\n",
       "</table>\n"
      ],
      "text/latex": [
       "\\begin{tabular}{r|lll}\n",
       " CD45RA\\_BB515 & CD94\\_BB630 & CD8\\_PerCP.Cy55\\\\\n",
       "\\hline\n",
       "\t 3.8211818  & 2.3091235  &  2.9135091\\\\\n",
       "\t 0.3953270  & 1.3615631  &  0.7724101\\\\\n",
       "\t 0.4318334  & 0.2001006  & -0.3806170\\\\\n",
       "\\end{tabular}\n"
      ],
      "text/markdown": [
       "\n",
       "CD45RA_BB515 | CD94_BB630 | CD8_PerCP.Cy55 | \n",
       "|---|---|---|\n",
       "| 3.8211818  | 2.3091235  |  2.9135091 | \n",
       "| 0.3953270  | 1.3615631  |  0.7724101 | \n",
       "| 0.4318334  | 0.2001006  | -0.3806170 | \n",
       "\n",
       "\n"
      ],
      "text/plain": [
       "  CD45RA_BB515 CD94_BB630 CD8_PerCP.Cy55\n",
       "1 3.8211818    2.3091235   2.9135091    \n",
       "2 0.3953270    1.3615631   0.7724101    \n",
       "3 0.4318334    0.2001006  -0.3806170    "
      ]
     },
     "metadata": {},
     "output_type": "display_data"
    }
   ],
   "source": [
    "df[1:3, c(3,4,6)]"
   ]
  },
  {
   "cell_type": "markdown",
   "metadata": {},
   "source": [
    "#### Selecting columns"
   ]
  },
  {
   "cell_type": "code",
   "execution_count": 20,
   "metadata": {},
   "outputs": [
    {
     "data": {
      "text/html": [
       "<table>\n",
       "<thead><tr><th scope=col>CD4_BUV661</th><th scope=col>CD8_PerCP.Cy55</th></tr></thead>\n",
       "<tbody>\n",
       "\t<tr><td>0.06071329</td><td> 2.9135091</td></tr>\n",
       "\t<tr><td>1.35243356</td><td> 0.7724101</td></tr>\n",
       "\t<tr><td>0.86341548</td><td>-0.3806170</td></tr>\n",
       "</tbody>\n",
       "</table>\n"
      ],
      "text/latex": [
       "\\begin{tabular}{r|ll}\n",
       " CD4\\_BUV661 & CD8\\_PerCP.Cy55\\\\\n",
       "\\hline\n",
       "\t 0.06071329 &  2.9135091\\\\\n",
       "\t 1.35243356 &  0.7724101\\\\\n",
       "\t 0.86341548 & -0.3806170\\\\\n",
       "\\end{tabular}\n"
      ],
      "text/markdown": [
       "\n",
       "CD4_BUV661 | CD8_PerCP.Cy55 | \n",
       "|---|---|---|\n",
       "| 0.06071329 |  2.9135091 | \n",
       "| 1.35243356 |  0.7724101 | \n",
       "| 0.86341548 | -0.3806170 | \n",
       "\n",
       "\n"
      ],
      "text/plain": [
       "  CD4_BUV661 CD8_PerCP.Cy55\n",
       "1 0.06071329  2.9135091    \n",
       "2 1.35243356  0.7724101    \n",
       "3 0.86341548 -0.3806170    "
      ]
     },
     "metadata": {},
     "output_type": "display_data"
    }
   ],
   "source": [
    "df %>% \n",
    "select(c('CD4_BUV661', 'CD8_PerCP.Cy55')) %>% \n",
    "head(3)"
   ]
  },
  {
   "cell_type": "code",
   "execution_count": 21,
   "metadata": {},
   "outputs": [
    {
     "data": {
      "text/html": [
       "<table>\n",
       "<thead><tr><th scope=col>CD45RA_BB515</th><th scope=col>CD4_BUV661</th></tr></thead>\n",
       "<tbody>\n",
       "\t<tr><td>3.8211818 </td><td>0.06071329</td></tr>\n",
       "\t<tr><td>0.3953270 </td><td>1.35243356</td></tr>\n",
       "\t<tr><td>0.4318334 </td><td>0.86341548</td></tr>\n",
       "</tbody>\n",
       "</table>\n"
      ],
      "text/latex": [
       "\\begin{tabular}{r|ll}\n",
       " CD45RA\\_BB515 & CD4\\_BUV661\\\\\n",
       "\\hline\n",
       "\t 3.8211818  & 0.06071329\\\\\n",
       "\t 0.3953270  & 1.35243356\\\\\n",
       "\t 0.4318334  & 0.86341548\\\\\n",
       "\\end{tabular}\n"
      ],
      "text/markdown": [
       "\n",
       "CD45RA_BB515 | CD4_BUV661 | \n",
       "|---|---|---|\n",
       "| 3.8211818  | 0.06071329 | \n",
       "| 0.3953270  | 1.35243356 | \n",
       "| 0.4318334  | 0.86341548 | \n",
       "\n",
       "\n"
      ],
      "text/plain": [
       "  CD45RA_BB515 CD4_BUV661\n",
       "1 3.8211818    0.06071329\n",
       "2 0.3953270    1.35243356\n",
       "3 0.4318334    0.86341548"
      ]
     },
     "metadata": {},
     "output_type": "display_data"
    }
   ],
   "source": [
    "df %>% \n",
    "select(starts_with('CD4')) %>% \n",
    "head(3)"
   ]
  },
  {
   "cell_type": "code",
   "execution_count": 22,
   "metadata": {},
   "outputs": [
    {
     "data": {
      "text/html": [
       "<table>\n",
       "<thead><tr><th scope=col>FSC.A</th><th scope=col>SSC.A</th></tr></thead>\n",
       "<tbody>\n",
       "\t<tr><td> 79154.35</td><td>5.624549 </td></tr>\n",
       "\t<tr><td>124136.11</td><td>7.366415 </td></tr>\n",
       "\t<tr><td>124842.20</td><td>7.982313 </td></tr>\n",
       "</tbody>\n",
       "</table>\n"
      ],
      "text/latex": [
       "\\begin{tabular}{r|ll}\n",
       " FSC.A & SSC.A\\\\\n",
       "\\hline\n",
       "\t  79154.35 & 5.624549 \\\\\n",
       "\t 124136.11 & 7.366415 \\\\\n",
       "\t 124842.20 & 7.982313 \\\\\n",
       "\\end{tabular}\n"
      ],
      "text/markdown": [
       "\n",
       "FSC.A | SSC.A | \n",
       "|---|---|---|\n",
       "|  79154.35 | 5.624549  | \n",
       "| 124136.11 | 7.366415  | \n",
       "| 124842.20 | 7.982313  | \n",
       "\n",
       "\n"
      ],
      "text/plain": [
       "  FSC.A     SSC.A   \n",
       "1  79154.35 5.624549\n",
       "2 124136.11 7.366415\n",
       "3 124842.20 7.982313"
      ]
     },
     "metadata": {},
     "output_type": "display_data"
    }
   ],
   "source": [
    "df %>% \n",
    "select(contains('SC')) %>%\n",
    "head(3)"
   ]
  },
  {
   "cell_type": "markdown",
   "metadata": {},
   "source": [
    "#### Filtering rows"
   ]
  },
  {
   "cell_type": "code",
   "execution_count": 23,
   "metadata": {},
   "outputs": [
    {
     "data": {
      "text/html": [
       "<ol class=list-inline>\n",
       "\t<li>10000</li>\n",
       "\t<li>30</li>\n",
       "</ol>\n"
      ],
      "text/latex": [
       "\\begin{enumerate*}\n",
       "\\item 10000\n",
       "\\item 30\n",
       "\\end{enumerate*}\n"
      ],
      "text/markdown": [
       "1. 10000\n",
       "2. 30\n",
       "\n",
       "\n"
      ],
      "text/plain": [
       "[1] 10000    30"
      ]
     },
     "metadata": {},
     "output_type": "display_data"
    }
   ],
   "source": [
    "dim(df)"
   ]
  },
  {
   "cell_type": "code",
   "execution_count": 24,
   "metadata": {},
   "outputs": [
    {
     "data": {
      "text/html": [
       "<ol class=list-inline>\n",
       "\t<li>'FSC.A'</li>\n",
       "\t<li>'SSC.A'</li>\n",
       "\t<li>'CD45RA_BB515'</li>\n",
       "\t<li>'CD94_BB630'</li>\n",
       "\t<li>'CD195_BB660'</li>\n",
       "\t<li>'CD8_PerCP.Cy55'</li>\n",
       "\t<li>'CD38_BB790'</li>\n",
       "\t<li>'CD127_AF647'</li>\n",
       "\t<li>'CD56_APCR700'</li>\n",
       "\t<li>'HLADR_APCCy7'</li>\n",
       "\t<li>'CD32_BUV395'</li>\n",
       "\t<li>'CD16_BUV496'</li>\n",
       "\t<li>'CD19_BUV563'</li>\n",
       "\t<li>'IgD_BUV615'</li>\n",
       "\t<li>'CD4_BUV661'</li>\n",
       "\t<li>'CD64_BUV737'</li>\n",
       "\t<li>'CD14_BUV805'</li>\n",
       "\t<li>'CD11c_PE'</li>\n",
       "\t<li>'CD13_PECF594'</li>\n",
       "\t<li>'CD123_PECy5'</li>\n",
       "\t<li>'PE.Cy5_5.A'</li>\n",
       "\t<li>'CD25_PECy7'</li>\n",
       "\t<li>'CD57_BV421'</li>\n",
       "\t<li>'CD3_BV480'</li>\n",
       "\t<li>'BV570.A'</li>\n",
       "\t<li>'BV605.A'</li>\n",
       "\t<li>'CD15_BV650'</li>\n",
       "\t<li>'CD27_BV711'</li>\n",
       "\t<li>'CD20_BV750'</li>\n",
       "\t<li>'CD197_BV786'</li>\n",
       "</ol>\n"
      ],
      "text/latex": [
       "\\begin{enumerate*}\n",
       "\\item 'FSC.A'\n",
       "\\item 'SSC.A'\n",
       "\\item 'CD45RA\\_BB515'\n",
       "\\item 'CD94\\_BB630'\n",
       "\\item 'CD195\\_BB660'\n",
       "\\item 'CD8\\_PerCP.Cy55'\n",
       "\\item 'CD38\\_BB790'\n",
       "\\item 'CD127\\_AF647'\n",
       "\\item 'CD56\\_APCR700'\n",
       "\\item 'HLADR\\_APCCy7'\n",
       "\\item 'CD32\\_BUV395'\n",
       "\\item 'CD16\\_BUV496'\n",
       "\\item 'CD19\\_BUV563'\n",
       "\\item 'IgD\\_BUV615'\n",
       "\\item 'CD4\\_BUV661'\n",
       "\\item 'CD64\\_BUV737'\n",
       "\\item 'CD14\\_BUV805'\n",
       "\\item 'CD11c\\_PE'\n",
       "\\item 'CD13\\_PECF594'\n",
       "\\item 'CD123\\_PECy5'\n",
       "\\item 'PE.Cy5\\_5.A'\n",
       "\\item 'CD25\\_PECy7'\n",
       "\\item 'CD57\\_BV421'\n",
       "\\item 'CD3\\_BV480'\n",
       "\\item 'BV570.A'\n",
       "\\item 'BV605.A'\n",
       "\\item 'CD15\\_BV650'\n",
       "\\item 'CD27\\_BV711'\n",
       "\\item 'CD20\\_BV750'\n",
       "\\item 'CD197\\_BV786'\n",
       "\\end{enumerate*}\n"
      ],
      "text/markdown": [
       "1. 'FSC.A'\n",
       "2. 'SSC.A'\n",
       "3. 'CD45RA_BB515'\n",
       "4. 'CD94_BB630'\n",
       "5. 'CD195_BB660'\n",
       "6. 'CD8_PerCP.Cy55'\n",
       "7. 'CD38_BB790'\n",
       "8. 'CD127_AF647'\n",
       "9. 'CD56_APCR700'\n",
       "10. 'HLADR_APCCy7'\n",
       "11. 'CD32_BUV395'\n",
       "12. 'CD16_BUV496'\n",
       "13. 'CD19_BUV563'\n",
       "14. 'IgD_BUV615'\n",
       "15. 'CD4_BUV661'\n",
       "16. 'CD64_BUV737'\n",
       "17. 'CD14_BUV805'\n",
       "18. 'CD11c_PE'\n",
       "19. 'CD13_PECF594'\n",
       "20. 'CD123_PECy5'\n",
       "21. 'PE.Cy5_5.A'\n",
       "22. 'CD25_PECy7'\n",
       "23. 'CD57_BV421'\n",
       "24. 'CD3_BV480'\n",
       "25. 'BV570.A'\n",
       "26. 'BV605.A'\n",
       "27. 'CD15_BV650'\n",
       "28. 'CD27_BV711'\n",
       "29. 'CD20_BV750'\n",
       "30. 'CD197_BV786'\n",
       "\n",
       "\n"
      ],
      "text/plain": [
       " [1] \"FSC.A\"          \"SSC.A\"          \"CD45RA_BB515\"   \"CD94_BB630\"    \n",
       " [5] \"CD195_BB660\"    \"CD8_PerCP.Cy55\" \"CD38_BB790\"     \"CD127_AF647\"   \n",
       " [9] \"CD56_APCR700\"   \"HLADR_APCCy7\"   \"CD32_BUV395\"    \"CD16_BUV496\"   \n",
       "[13] \"CD19_BUV563\"    \"IgD_BUV615\"     \"CD4_BUV661\"     \"CD64_BUV737\"   \n",
       "[17] \"CD14_BUV805\"    \"CD11c_PE\"       \"CD13_PECF594\"   \"CD123_PECy5\"   \n",
       "[21] \"PE.Cy5_5.A\"     \"CD25_PECy7\"     \"CD57_BV421\"     \"CD3_BV480\"     \n",
       "[25] \"BV570.A\"        \"BV605.A\"        \"CD15_BV650\"     \"CD27_BV711\"    \n",
       "[29] \"CD20_BV750\"     \"CD197_BV786\"   "
      ]
     },
     "metadata": {},
     "output_type": "display_data"
    }
   ],
   "source": [
    "colnames(df)"
   ]
  },
  {
   "cell_type": "code",
   "execution_count": 25,
   "metadata": {},
   "outputs": [
    {
     "data": {
      "text/html": [
       "<ol class=list-inline>\n",
       "\t<li>10000</li>\n",
       "\t<li>30</li>\n",
       "</ol>\n"
      ],
      "text/latex": [
       "\\begin{enumerate*}\n",
       "\\item 10000\n",
       "\\item 30\n",
       "\\end{enumerate*}\n"
      ],
      "text/markdown": [
       "1. 10000\n",
       "2. 30\n",
       "\n",
       "\n"
      ],
      "text/plain": [
       "[1] 10000    30"
      ]
     },
     "metadata": {},
     "output_type": "display_data"
    }
   ],
   "source": [
    "dim(df)"
   ]
  },
  {
   "cell_type": "code",
   "execution_count": 26,
   "metadata": {},
   "outputs": [
    {
     "data": {
      "text/html": [
       "<ol class=list-inline>\n",
       "\t<li>9674</li>\n",
       "\t<li>30</li>\n",
       "</ol>\n"
      ],
      "text/latex": [
       "\\begin{enumerate*}\n",
       "\\item 9674\n",
       "\\item 30\n",
       "\\end{enumerate*}\n"
      ],
      "text/markdown": [
       "1. 9674\n",
       "2. 30\n",
       "\n",
       "\n"
      ],
      "text/plain": [
       "[1] 9674   30"
      ]
     },
     "metadata": {},
     "output_type": "display_data"
    }
   ],
   "source": [
    "df %>% \n",
    "filter(FSC.A > 50000) %>%\n",
    "dim"
   ]
  },
  {
   "cell_type": "markdown",
   "metadata": {},
   "source": [
    "#### DIY rectangular gating"
   ]
  },
  {
   "cell_type": "code",
   "execution_count": 27,
   "metadata": {},
   "outputs": [
    {
     "data": {
      "text/html": [
       "<ol class=list-inline>\n",
       "\t<li>4797</li>\n",
       "\t<li>30</li>\n",
       "</ol>\n"
      ],
      "text/latex": [
       "\\begin{enumerate*}\n",
       "\\item 4797\n",
       "\\item 30\n",
       "\\end{enumerate*}\n"
      ],
      "text/markdown": [
       "1. 4797\n",
       "2. 30\n",
       "\n",
       "\n"
      ],
      "text/plain": [
       "[1] 4797   30"
      ]
     },
     "metadata": {},
     "output_type": "display_data"
    }
   ],
   "source": [
    "df %>% \n",
    "filter(FSC.A > 50000, \n",
    "       FSC.A < 250000,\n",
    "       CD3_BV480 > quantile(CD3_BV480, 0.5)) %>%\n",
    "dim"
   ]
  },
  {
   "cell_type": "markdown",
   "metadata": {},
   "source": [
    "#### Mutating data"
   ]
  },
  {
   "cell_type": "markdown",
   "metadata": {},
   "source": [
    "`mutate` returns original and transformed columns"
   ]
  },
  {
   "cell_type": "code",
   "execution_count": 28,
   "metadata": {},
   "outputs": [
    {
     "data": {
      "text/html": [
       "<table>\n",
       "<thead><tr><th scope=col>FSC.A</th><th scope=col>SSC.A</th><th scope=col>FSC.SC</th><th scope=col>SSC.SC</th></tr></thead>\n",
       "<tbody>\n",
       "\t<tr><td> 79154.35 </td><td>5.624549  </td><td>-0.6105343</td><td>-1.147803 </td></tr>\n",
       "\t<tr><td>124136.11 </td><td>7.366415  </td><td> 0.5503980</td><td> 0.587082 </td></tr>\n",
       "\t<tr><td>124842.20 </td><td>7.982313  </td><td> 0.5686216</td><td> 1.200512 </td></tr>\n",
       "</tbody>\n",
       "</table>\n"
      ],
      "text/latex": [
       "\\begin{tabular}{r|llll}\n",
       " FSC.A & SSC.A & FSC.SC & SSC.SC\\\\\n",
       "\\hline\n",
       "\t  79154.35  & 5.624549   & -0.6105343 & -1.147803 \\\\\n",
       "\t 124136.11  & 7.366415   &  0.5503980 &  0.587082 \\\\\n",
       "\t 124842.20  & 7.982313   &  0.5686216 &  1.200512 \\\\\n",
       "\\end{tabular}\n"
      ],
      "text/markdown": [
       "\n",
       "FSC.A | SSC.A | FSC.SC | SSC.SC | \n",
       "|---|---|---|\n",
       "|  79154.35  | 5.624549   | -0.6105343 | -1.147803  | \n",
       "| 124136.11  | 7.366415   |  0.5503980 |  0.587082  | \n",
       "| 124842.20  | 7.982313   |  0.5686216 |  1.200512  | \n",
       "\n",
       "\n"
      ],
      "text/plain": [
       "  FSC.A     SSC.A    FSC.SC     SSC.SC   \n",
       "1  79154.35 5.624549 -0.6105343 -1.147803\n",
       "2 124136.11 7.366415  0.5503980  0.587082\n",
       "3 124842.20 7.982313  0.5686216  1.200512"
      ]
     },
     "metadata": {},
     "output_type": "display_data"
    }
   ],
   "source": [
    "df %>% \n",
    "select(contains('SC')) %>% \n",
    "mutate(FSC.SC = scale(FSC.A),\n",
    "          SSC.SC = scale(SSC.A)) %>%\n",
    "head(3)"
   ]
  },
  {
   "cell_type": "markdown",
   "metadata": {},
   "source": [
    "`transmute` only returns transformed columns"
   ]
  },
  {
   "cell_type": "code",
   "execution_count": 29,
   "metadata": {},
   "outputs": [
    {
     "data": {
      "text/html": [
       "<table>\n",
       "<thead><tr><th scope=col>FSC.SC</th><th scope=col>SSC.SC</th></tr></thead>\n",
       "<tbody>\n",
       "\t<tr><td>-0.6105343</td><td>-1.147803 </td></tr>\n",
       "\t<tr><td> 0.5503980</td><td> 0.587082 </td></tr>\n",
       "\t<tr><td> 0.5686216</td><td> 1.200512 </td></tr>\n",
       "</tbody>\n",
       "</table>\n"
      ],
      "text/latex": [
       "\\begin{tabular}{r|ll}\n",
       " FSC.SC & SSC.SC\\\\\n",
       "\\hline\n",
       "\t -0.6105343 & -1.147803 \\\\\n",
       "\t  0.5503980 &  0.587082 \\\\\n",
       "\t  0.5686216 &  1.200512 \\\\\n",
       "\\end{tabular}\n"
      ],
      "text/markdown": [
       "\n",
       "FSC.SC | SSC.SC | \n",
       "|---|---|---|\n",
       "| -0.6105343 | -1.147803  | \n",
       "|  0.5503980 |  0.587082  | \n",
       "|  0.5686216 |  1.200512  | \n",
       "\n",
       "\n"
      ],
      "text/plain": [
       "  FSC.SC     SSC.SC   \n",
       "1 -0.6105343 -1.147803\n",
       "2  0.5503980  0.587082\n",
       "3  0.5686216  1.200512"
      ]
     },
     "metadata": {},
     "output_type": "display_data"
    }
   ],
   "source": [
    "df %>% \n",
    "transmute(FSC.SC = scale(FSC.A),\n",
    "          SSC.SC = scale(SSC.A)) %>%\n",
    "head(3)"
   ]
  },
  {
   "cell_type": "markdown",
   "metadata": {},
   "source": [
    "#### Summarizing data"
   ]
  },
  {
   "cell_type": "code",
   "execution_count": 30,
   "metadata": {},
   "outputs": [
    {
     "data": {
      "text/html": [
       "<table>\n",
       "<thead><tr><th scope=col>FSC.A</th><th scope=col>SSC.A</th><th scope=col>CD45RA_BB515</th><th scope=col>CD94_BB630</th><th scope=col>CD195_BB660</th><th scope=col>CD8_PerCP.Cy55</th><th scope=col>CD38_BB790</th><th scope=col>CD127_AF647</th><th scope=col>CD56_APCR700</th><th scope=col>HLADR_APCCy7</th><th scope=col>⋯</th><th scope=col>PE.Cy5_5.A</th><th scope=col>CD25_PECy7</th><th scope=col>CD57_BV421</th><th scope=col>CD3_BV480</th><th scope=col>BV570.A</th><th scope=col>BV605.A</th><th scope=col>CD15_BV650</th><th scope=col>CD27_BV711</th><th scope=col>CD20_BV750</th><th scope=col>CD197_BV786</th></tr></thead>\n",
       "<tbody>\n",
       "\t<tr><td>97140.16  </td><td>7.345209  </td><td>1.38829   </td><td>1.319535  </td><td>0.3619756 </td><td>0.172222  </td><td>1.282351  </td><td>0.3663073 </td><td>1.545928  </td><td>0.4983937 </td><td>⋯         </td><td>0.07914941</td><td>0.343787  </td><td>4.429566  </td><td>1.991104  </td><td>0.355557  </td><td>2.041021  </td><td>4.73033   </td><td>0.115984  </td><td>0.04964578</td><td>0.796197  </td></tr>\n",
       "</tbody>\n",
       "</table>\n"
      ],
      "text/latex": [
       "\\begin{tabular}{r|llllllllllllllllllllllllllllll}\n",
       " FSC.A & SSC.A & CD45RA\\_BB515 & CD94\\_BB630 & CD195\\_BB660 & CD8\\_PerCP.Cy55 & CD38\\_BB790 & CD127\\_AF647 & CD56\\_APCR700 & HLADR\\_APCCy7 & ⋯ & PE.Cy5\\_5.A & CD25\\_PECy7 & CD57\\_BV421 & CD3\\_BV480 & BV570.A & BV605.A & CD15\\_BV650 & CD27\\_BV711 & CD20\\_BV750 & CD197\\_BV786\\\\\n",
       "\\hline\n",
       "\t 97140.16   & 7.345209   & 1.38829    & 1.319535   & 0.3619756  & 0.172222   & 1.282351   & 0.3663073  & 1.545928   & 0.4983937  & ⋯          & 0.07914941 & 0.343787   & 4.429566   & 1.991104   & 0.355557   & 2.041021   & 4.73033    & 0.115984   & 0.04964578 & 0.796197  \\\\\n",
       "\\end{tabular}\n"
      ],
      "text/markdown": [
       "\n",
       "FSC.A | SSC.A | CD45RA_BB515 | CD94_BB630 | CD195_BB660 | CD8_PerCP.Cy55 | CD38_BB790 | CD127_AF647 | CD56_APCR700 | HLADR_APCCy7 | ⋯ | PE.Cy5_5.A | CD25_PECy7 | CD57_BV421 | CD3_BV480 | BV570.A | BV605.A | CD15_BV650 | CD27_BV711 | CD20_BV750 | CD197_BV786 | \n",
       "|---|\n",
       "| 97140.16   | 7.345209   | 1.38829    | 1.319535   | 0.3619756  | 0.172222   | 1.282351   | 0.3663073  | 1.545928   | 0.4983937  | ⋯          | 0.07914941 | 0.343787   | 4.429566   | 1.991104   | 0.355557   | 2.041021   | 4.73033    | 0.115984   | 0.04964578 | 0.796197   | \n",
       "\n",
       "\n"
      ],
      "text/plain": [
       "  FSC.A    SSC.A    CD45RA_BB515 CD94_BB630 CD195_BB660 CD8_PerCP.Cy55\n",
       "1 97140.16 7.345209 1.38829      1.319535   0.3619756   0.172222      \n",
       "  CD38_BB790 CD127_AF647 CD56_APCR700 HLADR_APCCy7 ⋯ PE.Cy5_5.A CD25_PECy7\n",
       "1 1.282351   0.3663073   1.545928     0.4983937    ⋯ 0.07914941 0.343787  \n",
       "  CD57_BV421 CD3_BV480 BV570.A  BV605.A  CD15_BV650 CD27_BV711 CD20_BV750\n",
       "1 4.429566   1.991104  0.355557 2.041021 4.73033    0.115984   0.04964578\n",
       "  CD197_BV786\n",
       "1 0.796197   "
      ]
     },
     "metadata": {},
     "output_type": "display_data"
    }
   ],
   "source": [
    "df %>%\n",
    "summarize_if(is.numeric, median)"
   ]
  },
  {
   "cell_type": "code",
   "execution_count": 31,
   "metadata": {},
   "outputs": [
    {
     "data": {
      "text/html": [
       "<table>\n",
       "<thead><tr><th scope=col>CD45RA_BB515_min</th><th scope=col>CD4_BUV661_min</th><th scope=col>CD45RA_BB515_max</th><th scope=col>CD4_BUV661_max</th></tr></thead>\n",
       "<tbody>\n",
       "\t<tr><td>-3.297107</td><td>-6.160768</td><td>8.301044 </td><td>5.614415 </td></tr>\n",
       "</tbody>\n",
       "</table>\n"
      ],
      "text/latex": [
       "\\begin{tabular}{r|llll}\n",
       " CD45RA\\_BB515\\_min & CD4\\_BUV661\\_min & CD45RA\\_BB515\\_max & CD4\\_BUV661\\_max\\\\\n",
       "\\hline\n",
       "\t -3.297107 & -6.160768 & 8.301044  & 5.614415 \\\\\n",
       "\\end{tabular}\n"
      ],
      "text/markdown": [
       "\n",
       "CD45RA_BB515_min | CD4_BUV661_min | CD45RA_BB515_max | CD4_BUV661_max | \n",
       "|---|\n",
       "| -3.297107 | -6.160768 | 8.301044  | 5.614415  | \n",
       "\n",
       "\n"
      ],
      "text/plain": [
       "  CD45RA_BB515_min CD4_BUV661_min CD45RA_BB515_max CD4_BUV661_max\n",
       "1 -3.297107        -6.160768      8.301044         5.614415      "
      ]
     },
     "metadata": {},
     "output_type": "display_data"
    }
   ],
   "source": [
    "df %>%\n",
    "select(starts_with('CD4')) %>% \n",
    "summarize_all(funs(min, max))"
   ]
  },
  {
   "cell_type": "markdown",
   "metadata": {},
   "source": [
    "### Simple visualizationm"
   ]
  },
  {
   "cell_type": "code",
   "execution_count": 32,
   "metadata": {},
   "outputs": [],
   "source": [
    "n <- 10000\n",
    "sc <- df %>% \n",
    "sample_n(n, replace = FALSE) %>%\n",
    "select(contains('SC'))"
   ]
  },
  {
   "cell_type": "code",
   "execution_count": 33,
   "metadata": {},
   "outputs": [
    {
     "data": {
      "text/html": [
       "<table>\n",
       "<thead><tr><th scope=col>FSC.A</th><th scope=col>SSC.A</th></tr></thead>\n",
       "<tbody>\n",
       "\t<tr><td>87076.48</td><td>5.733697</td></tr>\n",
       "\t<tr><td>81665.36</td><td>5.566556</td></tr>\n",
       "\t<tr><td>70142.15</td><td>5.413549</td></tr>\n",
       "</tbody>\n",
       "</table>\n"
      ],
      "text/latex": [
       "\\begin{tabular}{r|ll}\n",
       " FSC.A & SSC.A\\\\\n",
       "\\hline\n",
       "\t 87076.48 & 5.733697\\\\\n",
       "\t 81665.36 & 5.566556\\\\\n",
       "\t 70142.15 & 5.413549\\\\\n",
       "\\end{tabular}\n"
      ],
      "text/markdown": [
       "\n",
       "FSC.A | SSC.A | \n",
       "|---|---|---|\n",
       "| 87076.48 | 5.733697 | \n",
       "| 81665.36 | 5.566556 | \n",
       "| 70142.15 | 5.413549 | \n",
       "\n",
       "\n"
      ],
      "text/plain": [
       "  FSC.A    SSC.A   \n",
       "1 87076.48 5.733697\n",
       "2 81665.36 5.566556\n",
       "3 70142.15 5.413549"
      ]
     },
     "metadata": {},
     "output_type": "display_data"
    }
   ],
   "source": [
    "sc %>% head(n=3)"
   ]
  },
  {
   "cell_type": "code",
   "execution_count": 34,
   "metadata": {},
   "outputs": [],
   "source": [
    "options(repr.plot.width = 10, repr.plot.height = 4)"
   ]
  },
  {
   "cell_type": "code",
   "execution_count": 35,
   "metadata": {},
   "outputs": [
    {
     "data": {},
     "metadata": {},
     "output_type": "display_data"
    },
    {
     "data": {
      "image/png": "[encoded data removed]",
      "text/plain": [
       "plot without title"
      ]
     },
     "metadata": {},
     "output_type": "display_data"
    }
   ],
   "source": [
    "ggplot(df) +\n",
    "geom_histogram(bins = 25, aes(x=CD45RA_BB515, alpha=0.2, fill=\"red\")) +\n",
    "geom_histogram(bins = 25, aes(x=CD4_BUV661, alpha=0.2, fill=\"green\")) +\n",
    "guides(alpha=FALSE, fill=FALSE)"
   ]
  },
  {
   "cell_type": "code",
   "execution_count": 36,
   "metadata": {},
   "outputs": [
    {
     "data": {},
     "metadata": {},
     "output_type": "display_data"
    },
    {
     "data": {
      "image/png": "[encoded data removed]",
      "text/plain": [
       "plot without title"
      ]
     },
     "metadata": {},
     "output_type": "display_data"
    }
   ],
   "source": [
    "df %>% \n",
    "select(starts_with('CD1')) %>% \n",
    "gather  %>%\n",
    "ggplot(aes(x=value, fill=key)) + \n",
    "geom_histogram(binwidth=0.5, alpha=0.5) + \n",
    "guides(alpha=FALSE)"
   ]
  },
  {
   "cell_type": "code",
   "execution_count": 37,
   "metadata": {},
   "outputs": [],
   "source": [
    "options(repr.plot.width = 4, repr.plot.height = 4)"
   ]
  },
  {
   "cell_type": "code",
   "execution_count": 38,
   "metadata": {},
   "outputs": [
    {
     "data": {},
     "metadata": {},
     "output_type": "display_data"
    },
    {
     "data": {
      "image/png": "[encoded data removed]",
      "text/plain": [
       "plot without title"
      ]
     },
     "metadata": {},
     "output_type": "display_data"
    }
   ],
   "source": [
    "ggplot(sc, aes(x=FSC.A, y=SSC.A)) +\n",
    "geom_point(shape='.')"
   ]
  },
  {
   "cell_type": "markdown",
   "metadata": {},
   "source": [
    "[Original source for get_density function](http://slowkow.com/notes/ggplot2-color-by-density/)"
   ]
  },
  {
   "cell_type": "code",
   "execution_count": 39,
   "metadata": {},
   "outputs": [],
   "source": [
    "get_density <- function(x, y, n = 100) {\n",
    "  dens <- MASS::kde2d(x = x, y = y, n = n)\n",
    "  ix <- findInterval(x, dens$x)\n",
    "  iy <- findInterval(y, dens$y)\n",
    "  ii <- cbind(ix, iy)\n",
    "  return(dens$z[ii])\n",
    "}"
   ]
  },
  {
   "cell_type": "code",
   "execution_count": 40,
   "metadata": {},
   "outputs": [],
   "source": [
    "d <- get_density(sc$FSC.A, sc$SSC.A)"
   ]
  },
  {
   "cell_type": "code",
   "execution_count": 41,
   "metadata": {
    "scrolled": false
   },
   "outputs": [
    {
     "data": {},
     "metadata": {},
     "output_type": "display_data"
    },
    {
     "data": {
      "image/png": "[encoded data removed]",
      "text/plain": [
       "plot without title"
      ]
     },
     "metadata": {},
     "output_type": "display_data"
    }
   ],
   "source": [
    "ggplot(sc, aes(x=FSC.A, y=SSC.A, color=d)) +\n",
    "geom_point(shape='.') +\n",
    "scale_color_viridis() +\n",
    "guides(color=FALSE)"
   ]
  },
  {
   "cell_type": "code",
   "execution_count": 42,
   "metadata": {},
   "outputs": [
    {
     "data": {
      "text/html": [
       "<ol class=list-inline>\n",
       "\t<li>'FSC.A'</li>\n",
       "\t<li>'SSC.A'</li>\n",
       "\t<li>'CD45RA_BB515'</li>\n",
       "\t<li>'CD94_BB630'</li>\n",
       "\t<li>'CD195_BB660'</li>\n",
       "\t<li>'CD8_PerCP.Cy55'</li>\n",
       "\t<li>'CD38_BB790'</li>\n",
       "\t<li>'CD127_AF647'</li>\n",
       "\t<li>'CD56_APCR700'</li>\n",
       "\t<li>'HLADR_APCCy7'</li>\n",
       "\t<li>'CD32_BUV395'</li>\n",
       "\t<li>'CD16_BUV496'</li>\n",
       "\t<li>'CD19_BUV563'</li>\n",
       "\t<li>'IgD_BUV615'</li>\n",
       "\t<li>'CD4_BUV661'</li>\n",
       "\t<li>'CD64_BUV737'</li>\n",
       "\t<li>'CD14_BUV805'</li>\n",
       "\t<li>'CD11c_PE'</li>\n",
       "\t<li>'CD13_PECF594'</li>\n",
       "\t<li>'CD123_PECy5'</li>\n",
       "\t<li>'PE.Cy5_5.A'</li>\n",
       "\t<li>'CD25_PECy7'</li>\n",
       "\t<li>'CD57_BV421'</li>\n",
       "\t<li>'CD3_BV480'</li>\n",
       "\t<li>'BV570.A'</li>\n",
       "\t<li>'BV605.A'</li>\n",
       "\t<li>'CD15_BV650'</li>\n",
       "\t<li>'CD27_BV711'</li>\n",
       "\t<li>'CD20_BV750'</li>\n",
       "\t<li>'CD197_BV786'</li>\n",
       "</ol>\n"
      ],
      "text/latex": [
       "\\begin{enumerate*}\n",
       "\\item 'FSC.A'\n",
       "\\item 'SSC.A'\n",
       "\\item 'CD45RA\\_BB515'\n",
       "\\item 'CD94\\_BB630'\n",
       "\\item 'CD195\\_BB660'\n",
       "\\item 'CD8\\_PerCP.Cy55'\n",
       "\\item 'CD38\\_BB790'\n",
       "\\item 'CD127\\_AF647'\n",
       "\\item 'CD56\\_APCR700'\n",
       "\\item 'HLADR\\_APCCy7'\n",
       "\\item 'CD32\\_BUV395'\n",
       "\\item 'CD16\\_BUV496'\n",
       "\\item 'CD19\\_BUV563'\n",
       "\\item 'IgD\\_BUV615'\n",
       "\\item 'CD4\\_BUV661'\n",
       "\\item 'CD64\\_BUV737'\n",
       "\\item 'CD14\\_BUV805'\n",
       "\\item 'CD11c\\_PE'\n",
       "\\item 'CD13\\_PECF594'\n",
       "\\item 'CD123\\_PECy5'\n",
       "\\item 'PE.Cy5\\_5.A'\n",
       "\\item 'CD25\\_PECy7'\n",
       "\\item 'CD57\\_BV421'\n",
       "\\item 'CD3\\_BV480'\n",
       "\\item 'BV570.A'\n",
       "\\item 'BV605.A'\n",
       "\\item 'CD15\\_BV650'\n",
       "\\item 'CD27\\_BV711'\n",
       "\\item 'CD20\\_BV750'\n",
       "\\item 'CD197\\_BV786'\n",
       "\\end{enumerate*}\n"
      ],
      "text/markdown": [
       "1. 'FSC.A'\n",
       "2. 'SSC.A'\n",
       "3. 'CD45RA_BB515'\n",
       "4. 'CD94_BB630'\n",
       "5. 'CD195_BB660'\n",
       "6. 'CD8_PerCP.Cy55'\n",
       "7. 'CD38_BB790'\n",
       "8. 'CD127_AF647'\n",
       "9. 'CD56_APCR700'\n",
       "10. 'HLADR_APCCy7'\n",
       "11. 'CD32_BUV395'\n",
       "12. 'CD16_BUV496'\n",
       "13. 'CD19_BUV563'\n",
       "14. 'IgD_BUV615'\n",
       "15. 'CD4_BUV661'\n",
       "16. 'CD64_BUV737'\n",
       "17. 'CD14_BUV805'\n",
       "18. 'CD11c_PE'\n",
       "19. 'CD13_PECF594'\n",
       "20. 'CD123_PECy5'\n",
       "21. 'PE.Cy5_5.A'\n",
       "22. 'CD25_PECy7'\n",
       "23. 'CD57_BV421'\n",
       "24. 'CD3_BV480'\n",
       "25. 'BV570.A'\n",
       "26. 'BV605.A'\n",
       "27. 'CD15_BV650'\n",
       "28. 'CD27_BV711'\n",
       "29. 'CD20_BV750'\n",
       "30. 'CD197_BV786'\n",
       "\n",
       "\n"
      ],
      "text/plain": [
       " [1] \"FSC.A\"          \"SSC.A\"          \"CD45RA_BB515\"   \"CD94_BB630\"    \n",
       " [5] \"CD195_BB660\"    \"CD8_PerCP.Cy55\" \"CD38_BB790\"     \"CD127_AF647\"   \n",
       " [9] \"CD56_APCR700\"   \"HLADR_APCCy7\"   \"CD32_BUV395\"    \"CD16_BUV496\"   \n",
       "[13] \"CD19_BUV563\"    \"IgD_BUV615\"     \"CD4_BUV661\"     \"CD64_BUV737\"   \n",
       "[17] \"CD14_BUV805\"    \"CD11c_PE\"       \"CD13_PECF594\"   \"CD123_PECy5\"   \n",
       "[21] \"PE.Cy5_5.A\"     \"CD25_PECy7\"     \"CD57_BV421\"     \"CD3_BV480\"     \n",
       "[25] \"BV570.A\"        \"BV605.A\"        \"CD15_BV650\"     \"CD27_BV711\"    \n",
       "[29] \"CD20_BV750\"     \"CD197_BV786\"   "
      ]
     },
     "metadata": {},
     "output_type": "display_data"
    }
   ],
   "source": [
    "colnames(df)"
   ]
  },
  {
   "cell_type": "code",
   "execution_count": 43,
   "metadata": {},
   "outputs": [
    {
     "data": {},
     "metadata": {},
     "output_type": "display_data"
    },
    {
     "data": {
      "image/png": "[encoded data removed]",
      "text/plain": [
       "plot without title"
      ]
     },
     "metadata": {},
     "output_type": "display_data"
    }
   ],
   "source": [
    "ggplot(df,\n",
    "       aes(x=CD4_BUV661, y=CD8_PerCP.Cy55, \n",
    "           color=df$CD3_BV480)) +\n",
    "geom_point(size=0.1) +\n",
    "scale_color_viridis() +\n",
    "guides(color=FALSE)"
   ]
  },
  {
   "cell_type": "markdown",
   "metadata": {},
   "source": [
    "#### Make some subsampled data and save to file"
   ]
  },
  {
   "cell_type": "code",
   "execution_count": 44,
   "metadata": {},
   "outputs": [],
   "source": [
    "for (i in 1:3) {\n",
    "    path <- paste('data', \n",
    "                      paste('xs', i, '.feather', sep=''),\n",
    "                      sep='/')\n",
    "    data <- sample_n(df, 10000, replace=FALSE)\n",
    "    write_feather(data, path)\n",
    "}"
   ]
  },
  {
   "cell_type": "code",
   "execution_count": 45,
   "metadata": {},
   "outputs": [
    {
     "data": {
      "text/html": [
       "<ol class=list-inline>\n",
       "\t<li>'xs1.feather'</li>\n",
       "\t<li>'xs2.feather'</li>\n",
       "\t<li>'xs3.feather'</li>\n",
       "</ol>\n"
      ],
      "text/latex": [
       "\\begin{enumerate*}\n",
       "\\item 'xs1.feather'\n",
       "\\item 'xs2.feather'\n",
       "\\item 'xs3.feather'\n",
       "\\end{enumerate*}\n"
      ],
      "text/markdown": [
       "1. 'xs1.feather'\n",
       "2. 'xs2.feather'\n",
       "3. 'xs3.feather'\n",
       "\n",
       "\n"
      ],
      "text/plain": [
       "[1] \"xs1.feather\" \"xs2.feather\" \"xs3.feather\""
      ]
     },
     "metadata": {},
     "output_type": "display_data"
    }
   ],
   "source": [
    "list.files('data', 'xs.*feather')"
   ]
  },
  {
   "cell_type": "code",
   "execution_count": null,
   "metadata": {},
   "outputs": [],
   "source": []
  }
 ],
 "metadata": {
  "kernelspec": {
   "display_name": "R",
   "language": "R",
   "name": "r"
  },
  "language_info": {
   "codemirror_mode": "r",
   "file_extension": ".r",
   "mimetype": "text/x-r-source",
   "name": "R",
   "pygments_lexer": "r",
   "version": "3.4.2"
  }
 },
 "nbformat": 4,
 "nbformat_minor": 2
}
