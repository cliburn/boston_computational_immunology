{
 "cells": [
  {
   "cell_type": "code",
   "execution_count": 1,
   "metadata": {},
   "outputs": [],
   "source": [
    "%matplotlib inline\n",
    "import matplotlib.pyplot as plt"
   ]
  },
  {
   "cell_type": "code",
   "execution_count": 2,
   "metadata": {},
   "outputs": [],
   "source": [
    "import flowio\n",
    "import flowutils\n",
    "import numpy as np\n",
    "import pandas as pd"
   ]
  },
  {
   "cell_type": "code",
   "execution_count": 3,
   "metadata": {},
   "outputs": [],
   "source": [
    "from sklearn.neighbors.kde import KernelDensity"
   ]
  },
  {
   "cell_type": "code",
   "execution_count": 4,
   "metadata": {},
   "outputs": [],
   "source": [
    "import warnings\n",
    "warnings.simplefilter('ignore', UserWarning)"
   ]
  },
  {
   "cell_type": "markdown",
   "metadata": {},
   "source": [
    "## Helper functions"
   ]
  },
  {
   "cell_type": "code",
   "execution_count": 5,
   "metadata": {},
   "outputs": [],
   "source": [
    "def fcs_to_df(f):\n",
    "    \"\"\"Convert FCS file to DataFrame.\"\"\"\n",
    "    \n",
    "    fd = flowio.FlowData(f)\n",
    "    events = np.reshape(fd.events, (-1, fd.channel_count))\n",
    "    names = []\n",
    "    for channel in sorted(fd.channels, key=lambda x: int(x)):\n",
    "        meta = fd.channels[channel]\n",
    "        if 'PnS' in meta:\n",
    "            info = meta['PnS']\n",
    "        else:\n",
    "            info = meta['PnN']\n",
    "        names.append(info)\n",
    "\n",
    "    df = pd.DataFrame(events, columns=names)\n",
    "    return df"
   ]
  },
  {
   "cell_type": "code",
   "execution_count": 6,
   "metadata": {},
   "outputs": [],
   "source": [
    "def scatter(x, y, data):\n",
    "    \"\"\"Make a simple scatter plot.\"\"\"\n",
    "    \n",
    "    u, v = data[x], data[y]\n",
    "    h = u.ptp()/100\n",
    "    \n",
    "    X = np.c_[u, v]\n",
    "    kde = KernelDensity(kernel='gaussian', bandwidth=h).fit(X)\n",
    "    z = kde.score_samples(X)\n",
    "    \n",
    "    ax = plt.subplot(111)\n",
    "    ax.scatter(u, v, c=z, s=1, edgecolors='none', cmap='jet')\n",
    "    ax.set_xlabel(x)\n",
    "    ax.set_ylabel(y)\n",
    "    ax.axis('square')"
   ]
  },
  {
   "cell_type": "markdown",
   "metadata": {},
   "source": [
    "## FCS file"
   ]
  },
  {
   "cell_type": "code",
   "execution_count": 7,
   "metadata": {},
   "outputs": [],
   "source": [
    "f = '/data/flow/boston2018/flow27parameter_indexed.fcs'"
   ]
  },
  {
   "cell_type": "code",
   "execution_count": 8,
   "metadata": {},
   "outputs": [],
   "source": [
    "df = fcs_to_df(f)"
   ]
  },
  {
   "cell_type": "code",
   "execution_count": 9,
   "metadata": {},
   "outputs": [
    {
     "data": {
      "text/plain": [
       "[(0, 'Events'),\n",
       " (1, 'FSC-A'),\n",
       " (2, 'SSC-A'),\n",
       " (3, 'CD45RA_BB515'),\n",
       " (4, 'CD94_BB630'),\n",
       " (5, 'CD195_BB660'),\n",
       " (6, 'CD8_PerCP-Cy55'),\n",
       " (7, 'CD38_BB790'),\n",
       " (8, 'CD127_AF647'),\n",
       " (9, 'CD56_APCR700'),\n",
       " (10, 'HLADR_APCCy7'),\n",
       " (11, 'CD32_BUV395'),\n",
       " (12, 'CD16_BUV496'),\n",
       " (13, 'CD19_BUV563'),\n",
       " (14, 'IgD_BUV615'),\n",
       " (15, 'CD4_BUV661'),\n",
       " (16, 'CD64_BUV737'),\n",
       " (17, 'CD14_BUV805'),\n",
       " (18, 'CD11c_PE'),\n",
       " (19, 'CD13_PECF594'),\n",
       " (20, 'CD123_PECy5'),\n",
       " (21, 'PE-Cy5_5-A'),\n",
       " (22, 'CD25_PECy7'),\n",
       " (23, 'CD57_BV421'),\n",
       " (24, 'CD3_BV480'),\n",
       " (25, 'BV570-A'),\n",
       " (26, 'BV605-A'),\n",
       " (27, 'CD15_BV650'),\n",
       " (28, 'CD27_BV711'),\n",
       " (29, 'CD20_BV750'),\n",
       " (30, 'CD197_BV786'),\n",
       " (31, 'File_number'),\n",
       " (32, 'Events')]"
      ]
     },
     "execution_count": 9,
     "metadata": {},
     "output_type": "execute_result"
    }
   ],
   "source": [
    "list(zip(range(100), df.columns))"
   ]
  },
  {
   "cell_type": "code",
   "execution_count": 10,
   "metadata": {},
   "outputs": [
    {
     "data": {
      "text/plain": [
       "(405472, 33)"
      ]
     },
     "execution_count": 10,
     "metadata": {},
     "output_type": "execute_result"
    }
   ],
   "source": [
    "df.shape"
   ]
  },
  {
   "cell_type": "code",
   "execution_count": 13,
   "metadata": {},
   "outputs": [],
   "source": [
    "df.drop(['Events', 'File_number'], axis=1, inplace=True)"
   ]
  },
  {
   "cell_type": "code",
   "execution_count": 14,
   "metadata": {},
   "outputs": [],
   "source": [
    "df.to_feather('/data/flow/boston2018/flow27parameter_indexed.feather')"
   ]
  },
  {
   "cell_type": "markdown",
   "metadata": {},
   "source": [
    "## Clean up data set and reduce # events"
   ]
  },
  {
   "cell_type": "code",
   "execution_count": 11,
   "metadata": {},
   "outputs": [],
   "source": [
    "df_ = df.sample(10000, replace=False)"
   ]
  },
  {
   "cell_type": "code",
   "execution_count": 13,
   "metadata": {},
   "outputs": [
    {
     "data": {
      "text/html": [
       "<div>\n",
       "<style scoped>\n",
       "    .dataframe tbody tr th:only-of-type {\n",
       "        vertical-align: middle;\n",
       "    }\n",
       "\n",
       "    .dataframe tbody tr th {\n",
       "        vertical-align: top;\n",
       "    }\n",
       "\n",
       "    .dataframe thead th {\n",
       "        text-align: right;\n",
       "    }\n",
       "</style>\n",
       "<table border=\"1\" class=\"dataframe\">\n",
       "  <thead>\n",
       "    <tr style=\"text-align: right;\">\n",
       "      <th></th>\n",
       "      <th>FSC-A</th>\n",
       "      <th>SSC-A</th>\n",
       "      <th>CD45RA_BB515</th>\n",
       "      <th>CD94_BB630</th>\n",
       "      <th>CD195_BB660</th>\n",
       "      <th>CD8_PerCP-Cy55</th>\n",
       "      <th>CD38_BB790</th>\n",
       "      <th>CD127_AF647</th>\n",
       "      <th>CD56_APCR700</th>\n",
       "      <th>HLADR_APCCy7</th>\n",
       "      <th>...</th>\n",
       "      <th>PE-Cy5_5-A</th>\n",
       "      <th>CD25_PECy7</th>\n",
       "      <th>CD57_BV421</th>\n",
       "      <th>CD3_BV480</th>\n",
       "      <th>BV570-A</th>\n",
       "      <th>BV605-A</th>\n",
       "      <th>CD15_BV650</th>\n",
       "      <th>CD27_BV711</th>\n",
       "      <th>CD20_BV750</th>\n",
       "      <th>CD197_BV786</th>\n",
       "    </tr>\n",
       "  </thead>\n",
       "  <tbody>\n",
       "    <tr>\n",
       "      <th>204477</th>\n",
       "      <td>148245.484375</td>\n",
       "      <td>8.014721</td>\n",
       "      <td>1.808875</td>\n",
       "      <td>2.416663</td>\n",
       "      <td>0.608822</td>\n",
       "      <td>0.517012</td>\n",
       "      <td>1.566940</td>\n",
       "      <td>0.386233</td>\n",
       "      <td>1.363726</td>\n",
       "      <td>0.266526</td>\n",
       "      <td>...</td>\n",
       "      <td>-1.529484</td>\n",
       "      <td>0.629885</td>\n",
       "      <td>4.614459</td>\n",
       "      <td>4.564982</td>\n",
       "      <td>-2.377745</td>\n",
       "      <td>2.277947</td>\n",
       "      <td>4.915054</td>\n",
       "      <td>-0.619785</td>\n",
       "      <td>0.388958</td>\n",
       "      <td>0.168906</td>\n",
       "    </tr>\n",
       "    <tr>\n",
       "      <th>77225</th>\n",
       "      <td>117990.023438</td>\n",
       "      <td>7.542601</td>\n",
       "      <td>0.751251</td>\n",
       "      <td>1.195494</td>\n",
       "      <td>0.424912</td>\n",
       "      <td>0.601654</td>\n",
       "      <td>0.436415</td>\n",
       "      <td>0.485443</td>\n",
       "      <td>0.933366</td>\n",
       "      <td>-0.866790</td>\n",
       "      <td>...</td>\n",
       "      <td>-2.425989</td>\n",
       "      <td>0.489318</td>\n",
       "      <td>4.026452</td>\n",
       "      <td>2.074240</td>\n",
       "      <td>0.993690</td>\n",
       "      <td>0.230392</td>\n",
       "      <td>4.319390</td>\n",
       "      <td>-0.244336</td>\n",
       "      <td>0.009288</td>\n",
       "      <td>0.094095</td>\n",
       "    </tr>\n",
       "    <tr>\n",
       "      <th>281486</th>\n",
       "      <td>281376.968750</td>\n",
       "      <td>7.755479</td>\n",
       "      <td>2.236461</td>\n",
       "      <td>1.945007</td>\n",
       "      <td>0.313940</td>\n",
       "      <td>0.252220</td>\n",
       "      <td>0.796142</td>\n",
       "      <td>0.298520</td>\n",
       "      <td>2.044558</td>\n",
       "      <td>1.501825</td>\n",
       "      <td>...</td>\n",
       "      <td>-1.441334</td>\n",
       "      <td>2.148601</td>\n",
       "      <td>3.995782</td>\n",
       "      <td>3.856745</td>\n",
       "      <td>2.989640</td>\n",
       "      <td>-1.352890</td>\n",
       "      <td>2.780144</td>\n",
       "      <td>0.353688</td>\n",
       "      <td>0.001462</td>\n",
       "      <td>1.517923</td>\n",
       "    </tr>\n",
       "    <tr>\n",
       "      <th>216133</th>\n",
       "      <td>150623.343750</td>\n",
       "      <td>7.699108</td>\n",
       "      <td>1.830335</td>\n",
       "      <td>1.997651</td>\n",
       "      <td>0.362106</td>\n",
       "      <td>-0.435342</td>\n",
       "      <td>1.409980</td>\n",
       "      <td>1.089682</td>\n",
       "      <td>1.397990</td>\n",
       "      <td>-0.337507</td>\n",
       "      <td>...</td>\n",
       "      <td>2.421997</td>\n",
       "      <td>0.007860</td>\n",
       "      <td>4.527243</td>\n",
       "      <td>2.308951</td>\n",
       "      <td>0.946794</td>\n",
       "      <td>1.915311</td>\n",
       "      <td>5.067905</td>\n",
       "      <td>-0.164543</td>\n",
       "      <td>0.253317</td>\n",
       "      <td>0.599457</td>\n",
       "    </tr>\n",
       "    <tr>\n",
       "      <th>40729</th>\n",
       "      <td>61161.859375</td>\n",
       "      <td>5.673355</td>\n",
       "      <td>2.299802</td>\n",
       "      <td>0.678808</td>\n",
       "      <td>0.168054</td>\n",
       "      <td>2.277815</td>\n",
       "      <td>1.224281</td>\n",
       "      <td>1.684364</td>\n",
       "      <td>1.867924</td>\n",
       "      <td>-0.764497</td>\n",
       "      <td>...</td>\n",
       "      <td>3.428563</td>\n",
       "      <td>1.733054</td>\n",
       "      <td>1.199199</td>\n",
       "      <td>5.890022</td>\n",
       "      <td>2.291241</td>\n",
       "      <td>-1.370636</td>\n",
       "      <td>-0.254689</td>\n",
       "      <td>2.442629</td>\n",
       "      <td>-0.090855</td>\n",
       "      <td>0.662325</td>\n",
       "    </tr>\n",
       "  </tbody>\n",
       "</table>\n",
       "<p>5 rows × 30 columns</p>\n",
       "</div>"
      ],
      "text/plain": [
       "                FSC-A     SSC-A  CD45RA_BB515  CD94_BB630  CD195_BB660  \\\n",
       "204477  148245.484375  8.014721      1.808875    2.416663     0.608822   \n",
       "77225   117990.023438  7.542601      0.751251    1.195494     0.424912   \n",
       "281486  281376.968750  7.755479      2.236461    1.945007     0.313940   \n",
       "216133  150623.343750  7.699108      1.830335    1.997651     0.362106   \n",
       "40729    61161.859375  5.673355      2.299802    0.678808     0.168054   \n",
       "\n",
       "        CD8_PerCP-Cy55  CD38_BB790  CD127_AF647  CD56_APCR700  HLADR_APCCy7  \\\n",
       "204477        0.517012    1.566940     0.386233      1.363726      0.266526   \n",
       "77225         0.601654    0.436415     0.485443      0.933366     -0.866790   \n",
       "281486        0.252220    0.796142     0.298520      2.044558      1.501825   \n",
       "216133       -0.435342    1.409980     1.089682      1.397990     -0.337507   \n",
       "40729         2.277815    1.224281     1.684364      1.867924     -0.764497   \n",
       "\n",
       "           ...       PE-Cy5_5-A  CD25_PECy7  CD57_BV421  CD3_BV480   BV570-A  \\\n",
       "204477     ...        -1.529484    0.629885    4.614459   4.564982 -2.377745   \n",
       "77225      ...        -2.425989    0.489318    4.026452   2.074240  0.993690   \n",
       "281486     ...        -1.441334    2.148601    3.995782   3.856745  2.989640   \n",
       "216133     ...         2.421997    0.007860    4.527243   2.308951  0.946794   \n",
       "40729      ...         3.428563    1.733054    1.199199   5.890022  2.291241   \n",
       "\n",
       "         BV605-A  CD15_BV650  CD27_BV711  CD20_BV750  CD197_BV786  \n",
       "204477  2.277947    4.915054   -0.619785    0.388958     0.168906  \n",
       "77225   0.230392    4.319390   -0.244336    0.009288     0.094095  \n",
       "281486 -1.352890    2.780144    0.353688    0.001462     1.517923  \n",
       "216133  1.915311    5.067905   -0.164543    0.253317     0.599457  \n",
       "40729  -1.370636   -0.254689    2.442629   -0.090855     0.662325  \n",
       "\n",
       "[5 rows x 30 columns]"
      ]
     },
     "execution_count": 13,
     "metadata": {},
     "output_type": "execute_result"
    }
   ],
   "source": [
    "df_.head()"
   ]
  },
  {
   "cell_type": "markdown",
   "metadata": {},
   "source": [
    "## Make simple plot to visualize data"
   ]
  },
  {
   "cell_type": "code",
   "execution_count": 14,
   "metadata": {},
   "outputs": [
    {
     "data": {
      "image/png": "[encoded data removed]",
      "text/plain": [
       "<Figure size 432x288 with 1 Axes>"
      ]
     },
     "metadata": {},
     "output_type": "display_data"
    }
   ],
   "source": [
    "scatter(x='CD4_BUV661', y='CD8_PerCP-Cy55', data=df_)"
   ]
  },
  {
   "cell_type": "code",
   "execution_count": null,
   "metadata": {},
   "outputs": [],
   "source": []
  }
 ],
 "metadata": {
  "kernelspec": {
   "display_name": "Python 3",
   "language": "python",
   "name": "python3"
  },
  "language_info": {
   "codemirror_mode": {
    "name": "ipython",
    "version": 3
   },
   "file_extension": ".py",
   "mimetype": "text/x-python",
   "name": "python",
   "nbconvert_exporter": "python",
   "pygments_lexer": "ipython3",
   "version": "3.6.3"
  }
 },
 "nbformat": 4,
 "nbformat_minor": 2
}
